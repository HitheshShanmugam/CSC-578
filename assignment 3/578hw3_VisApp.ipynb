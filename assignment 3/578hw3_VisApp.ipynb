{
  "nbformat": 4,
  "nbformat_minor": 0,
  "metadata": {
    "colab": {
      "provenance": [],
      "collapsed_sections": []
    },
    "kernelspec": {
      "name": "python3",
      "display_name": "Python 3"
    },
    "language_info": {
      "name": "python"
    }
  },
  "cells": [
    {
      "cell_type": "code",
      "execution_count": 1,
      "metadata": {
        "colab": {
          "base_uri": "https://localhost:8080/",
          "height": 0
        },
        "id": "J8g6PR6aMfyb",
        "outputId": "012e3be0-ac7c-475f-dd28-15d6c7fddc0a"
      },
      "outputs": [
        {
          "output_type": "stream",
          "name": "stdout",
          "text": [
            "Drive already mounted at /content/drive; to attempt to forcibly remount, call drive.mount(\"/content/drive\", force_remount=True).\n"
          ]
        }
      ],
      "source": [
        "from google.colab import drive\n",
        "drive.mount('/content/drive')"
      ]
    },
    {
      "cell_type": "code",
      "source": [
        "## nt: Code piece to mount my Google Drive\n",
        "from google.colab import drive \n",
        "drive.mount(\"/content/drive\") # my Google Drive root directory will be "
      ],
      "metadata": {
        "colab": {
          "base_uri": "https://localhost:8080/",
          "height": 0
        },
        "id": "WKHP2bJFNc6G",
        "outputId": "11bffb8e-0800-49c3-f2ea-c2d73f1f787a"
      },
      "execution_count": 2,
      "outputs": [
        {
          "output_type": "stream",
          "name": "stdout",
          "text": [
            "Drive already mounted at /content/drive; to attempt to forcibly remount, call drive.mount(\"/content/drive\", force_remount=True).\n"
          ]
        }
      ]
    },
    {
      "cell_type": "code",
      "source": [
        "# nt: Change the working directory to the work directory (where the code file is).\n",
        "import os\n",
        "thisdir = '/content/drive/My Drive/hw3_CodeData'\n",
        "os.chdir(thisdir)\n",
        "# Ensure the files are there (in the folder)\n",
        "!pwd"
      ],
      "metadata": {
        "colab": {
          "base_uri": "https://localhost:8080/",
          "height": 0
        },
        "id": "zsyUWRWaN_23",
        "outputId": "ca903858-2045-488e-edc5-2e94af084db7"
      },
      "execution_count": 3,
      "outputs": [
        {
          "output_type": "stream",
          "name": "stdout",
          "text": [
            "/content/drive/My Drive/hw3_CodeData\n"
          ]
        }
      ]
    },
    {
      "cell_type": "code",
      "source": [
        "# First install this library so that we can import code from other Notebooks\n",
        "!pip install import-ipynb\n",
        "import import_ipynb"
      ],
      "metadata": {
        "colab": {
          "base_uri": "https://localhost:8080/",
          "height": 0
        },
        "id": "W0wtE-WZOrUI",
        "outputId": "d65e8d35-3579-401e-f05e-20217934437d"
      },
      "execution_count": 4,
      "outputs": [
        {
          "output_type": "stream",
          "name": "stdout",
          "text": [
            "Looking in indexes: https://pypi.org/simple, https://us-python.pkg.dev/colab-wheels/public/simple/\n",
            "Requirement already satisfied: import-ipynb in /usr/local/lib/python3.7/dist-packages (0.1.4)\n",
            "Requirement already satisfied: IPython in /usr/local/lib/python3.7/dist-packages (from import-ipynb) (7.9.0)\n",
            "Requirement already satisfied: nbformat in /usr/local/lib/python3.7/dist-packages (from import-ipynb) (5.6.1)\n",
            "Requirement already satisfied: prompt-toolkit<2.1.0,>=2.0.0 in /usr/local/lib/python3.7/dist-packages (from IPython->import-ipynb) (2.0.10)\n",
            "Requirement already satisfied: traitlets>=4.2 in /usr/local/lib/python3.7/dist-packages (from IPython->import-ipynb) (5.1.1)\n",
            "Requirement already satisfied: setuptools>=18.5 in /usr/local/lib/python3.7/dist-packages (from IPython->import-ipynb) (57.4.0)\n",
            "Requirement already satisfied: decorator in /usr/local/lib/python3.7/dist-packages (from IPython->import-ipynb) (4.4.2)\n",
            "Requirement already satisfied: backcall in /usr/local/lib/python3.7/dist-packages (from IPython->import-ipynb) (0.2.0)\n",
            "Requirement already satisfied: pickleshare in /usr/local/lib/python3.7/dist-packages (from IPython->import-ipynb) (0.7.5)\n",
            "Requirement already satisfied: pygments in /usr/local/lib/python3.7/dist-packages (from IPython->import-ipynb) (2.6.1)\n",
            "Requirement already satisfied: pexpect in /usr/local/lib/python3.7/dist-packages (from IPython->import-ipynb) (4.8.0)\n",
            "Requirement already satisfied: jedi>=0.10 in /usr/local/lib/python3.7/dist-packages (from IPython->import-ipynb) (0.18.1)\n",
            "Requirement already satisfied: parso<0.9.0,>=0.8.0 in /usr/local/lib/python3.7/dist-packages (from jedi>=0.10->IPython->import-ipynb) (0.8.3)\n",
            "Requirement already satisfied: six>=1.9.0 in /usr/local/lib/python3.7/dist-packages (from prompt-toolkit<2.1.0,>=2.0.0->IPython->import-ipynb) (1.15.0)\n",
            "Requirement already satisfied: wcwidth in /usr/local/lib/python3.7/dist-packages (from prompt-toolkit<2.1.0,>=2.0.0->IPython->import-ipynb) (0.2.5)\n",
            "Requirement already satisfied: jsonschema>=2.6 in /usr/local/lib/python3.7/dist-packages (from nbformat->import-ipynb) (4.3.3)\n",
            "Requirement already satisfied: jupyter-core in /usr/local/lib/python3.7/dist-packages (from nbformat->import-ipynb) (4.11.1)\n",
            "Requirement already satisfied: importlib-metadata>=3.6 in /usr/local/lib/python3.7/dist-packages (from nbformat->import-ipynb) (5.0.0)\n",
            "Requirement already satisfied: fastjsonschema in /usr/local/lib/python3.7/dist-packages (from nbformat->import-ipynb) (2.16.2)\n",
            "Requirement already satisfied: typing-extensions>=3.6.4 in /usr/local/lib/python3.7/dist-packages (from importlib-metadata>=3.6->nbformat->import-ipynb) (4.1.1)\n",
            "Requirement already satisfied: zipp>=0.5 in /usr/local/lib/python3.7/dist-packages (from importlib-metadata>=3.6->nbformat->import-ipynb) (3.8.1)\n",
            "Requirement already satisfied: importlib-resources>=1.4.0 in /usr/local/lib/python3.7/dist-packages (from jsonschema>=2.6->nbformat->import-ipynb) (5.9.0)\n",
            "Requirement already satisfied: attrs>=17.4.0 in /usr/local/lib/python3.7/dist-packages (from jsonschema>=2.6->nbformat->import-ipynb) (22.1.0)\n",
            "Requirement already satisfied: pyrsistent!=0.17.0,!=0.17.1,!=0.17.2,>=0.14.0 in /usr/local/lib/python3.7/dist-packages (from jsonschema>=2.6->nbformat->import-ipynb) (0.18.1)\n",
            "Requirement already satisfied: ptyprocess>=0.5 in /usr/local/lib/python3.7/dist-packages (from pexpect->IPython->import-ipynb) (0.7.0)\n"
          ]
        }
      ]
    },
    {
      "cell_type": "code",
      "source": [
        "import NN578_network_nb as network\n",
        "import numpy as np\n",
        "from sklearn.model_selection import train_test_split\n",
        "import matplotlib.pyplot as plt"
      ],
      "metadata": {
        "colab": {
          "base_uri": "https://localhost:8080/",
          "height": 0
        },
        "id": "QjrCHFwROvBy",
        "outputId": "f5914946-8a33-445f-9f5d-2071b9fb9102"
      },
      "execution_count": 5,
      "outputs": [
        {
          "output_type": "stream",
          "name": "stdout",
          "text": [
            "importing Jupyter notebook from NN578_network_nb.ipynb\n"
          ]
        }
      ]
    },
    {
      "cell_type": "code",
      "source": [
        "import  NN578_network_nb as network_nb\n"
      ],
      "metadata": {
        "id": "IfmenAnMO1YG"
      },
      "execution_count": 6,
      "outputs": []
    },
    {
      "cell_type": "code",
      "source": [
        "iris_data=network_nb.my_load_csv('iris.csv',4,3)"
      ],
      "metadata": {
        "id": "ExX04xmMO5ie"
      },
      "execution_count": 7,
      "outputs": []
    },
    {
      "cell_type": "code",
      "source": [
        "train_data,test_data=train_test_split(iris_data,test_size=0.30,random_state=None)"
      ],
      "metadata": {
        "id": "czprt1Z5PA0H"
      },
      "execution_count": 8,
      "outputs": []
    },
    {
      "cell_type": "code",
      "source": [
        "net2=network.Network([4,7,3])"
      ],
      "metadata": {
        "id": "abSuFpq6PDaZ"
      },
      "execution_count": 9,
      "outputs": []
    },
    {
      "cell_type": "code",
      "source": [
        "data_set=net2.SGD(training_data=train_data,epochs=100,mini_batch_size=8,eta=0.2,test_data=test_data)"
      ],
      "metadata": {
        "colab": {
          "base_uri": "https://localhost:8080/",
          "height": 0
        },
        "id": "Z2qo5B64PFvw",
        "outputId": "3070d5c8-5c06-4620-dea4-33b874304bed"
      },
      "execution_count": 10,
      "outputs": [
        {
          "output_type": "stream",
          "name": "stdout",
          "text": [
            "[Epoch 0] Train: ACC=0.3429, MSE=0.3253, CE=1.8378, LL:0.9979\n",
            "           Valid: ACC=0.3111, MSE=0.3416, CE=1.9151, LL:1.0395\n",
            "\n",
            "[Epoch 1] Train: ACC=0.3429, MSE=0.2922, CE=1.6971, LL:0.9398\n",
            "           Valid: ACC=0.3111, MSE=0.3014, CE=1.7397, LL:0.9574\n",
            "\n",
            "[Epoch 2] Train: ACC=0.4857, MSE=0.2705, CE=1.6142, LL:0.8822\n",
            "           Valid: ACC=0.4222, MSE=0.2744, CE=1.6330, LL:0.8826\n",
            "\n",
            "[Epoch 3] Train: ACC=0.6667, MSE=0.2560, CE=1.5610, LL:0.8403\n",
            "           Valid: ACC=0.6889, MSE=0.2564, CE=1.5643, LL:0.8301\n",
            "\n",
            "[Epoch 4] Train: ACC=0.6667, MSE=0.2458, CE=1.5220, LL:0.8114\n",
            "           Valid: ACC=0.6889, MSE=0.2440, CE=1.5159, LL:0.7954\n",
            "\n",
            "[Epoch 5] Train: ACC=0.6571, MSE=0.2378, CE=1.4886, LL:0.7890\n",
            "           Valid: ACC=0.6889, MSE=0.2347, CE=1.4771, LL:0.7703\n",
            "\n",
            "[Epoch 6] Train: ACC=0.6571, MSE=0.2308, CE=1.4576, LL:0.7692\n",
            "           Valid: ACC=0.6889, MSE=0.2269, CE=1.4431, LL:0.7495\n",
            "\n",
            "[Epoch 7] Train: ACC=0.6667, MSE=0.2244, CE=1.4280, LL:0.7501\n",
            "           Valid: ACC=0.6889, MSE=0.2201, CE=1.4119, LL:0.7303\n",
            "\n",
            "[Epoch 8] Train: ACC=0.6667, MSE=0.2183, CE=1.3997, LL:0.7315\n",
            "           Valid: ACC=0.6889, MSE=0.2138, CE=1.3829, LL:0.7121\n",
            "\n",
            "[Epoch 9] Train: ACC=0.6857, MSE=0.2127, CE=1.3727, LL:0.7133\n",
            "           Valid: ACC=0.6889, MSE=0.2080, CE=1.3556, LL:0.6947\n",
            "\n",
            "[Epoch 10] Train: ACC=0.6857, MSE=0.2073, CE=1.3470, LL:0.6957\n",
            "           Valid: ACC=0.6889, MSE=0.2026, CE=1.3298, LL:0.6779\n",
            "\n",
            "[Epoch 11] Train: ACC=0.7048, MSE=0.2023, CE=1.3226, LL:0.6789\n",
            "           Valid: ACC=0.6889, MSE=0.1976, CE=1.3054, LL:0.6619\n",
            "\n",
            "[Epoch 12] Train: ACC=0.7143, MSE=0.1976, CE=1.2994, LL:0.6629\n",
            "           Valid: ACC=0.6889, MSE=0.1928, CE=1.2821, LL:0.6467\n",
            "\n",
            "[Epoch 13] Train: ACC=0.7238, MSE=0.1931, CE=1.2772, LL:0.6478\n",
            "           Valid: ACC=0.6889, MSE=0.1883, CE=1.2598, LL:0.6323\n",
            "\n",
            "[Epoch 14] Train: ACC=0.7238, MSE=0.1888, CE=1.2561, LL:0.6335\n",
            "           Valid: ACC=0.7111, MSE=0.1839, CE=1.2385, LL:0.6186\n",
            "\n",
            "[Epoch 15] Train: ACC=0.7238, MSE=0.1848, CE=1.2359, LL:0.6200\n",
            "           Valid: ACC=0.7111, MSE=0.1798, CE=1.2180, LL:0.6056\n",
            "\n",
            "[Epoch 16] Train: ACC=0.7333, MSE=0.1809, CE=1.2164, LL:0.6073\n",
            "           Valid: ACC=0.7333, MSE=0.1759, CE=1.1982, LL:0.5933\n",
            "\n",
            "[Epoch 17] Train: ACC=0.7429, MSE=0.1772, CE=1.1978, LL:0.5952\n",
            "           Valid: ACC=0.7333, MSE=0.1721, CE=1.1791, LL:0.5817\n",
            "\n",
            "[Epoch 18] Train: ACC=0.7524, MSE=0.1736, CE=1.1798, LL:0.5838\n",
            "           Valid: ACC=0.7333, MSE=0.1684, CE=1.1607, LL:0.5705\n",
            "\n",
            "[Epoch 19] Train: ACC=0.7524, MSE=0.1702, CE=1.1625, LL:0.5729\n",
            "           Valid: ACC=0.8000, MSE=0.1649, CE=1.1429, LL:0.5599\n",
            "\n",
            "[Epoch 20] Train: ACC=0.7714, MSE=0.1669, CE=1.1458, LL:0.5625\n",
            "           Valid: ACC=0.8222, MSE=0.1615, CE=1.1257, LL:0.5498\n",
            "\n",
            "[Epoch 21] Train: ACC=0.8000, MSE=0.1638, CE=1.1296, LL:0.5526\n",
            "           Valid: ACC=0.8222, MSE=0.1583, CE=1.1090, LL:0.5401\n",
            "\n",
            "[Epoch 22] Train: ACC=0.8190, MSE=0.1608, CE=1.1140, LL:0.5431\n",
            "           Valid: ACC=0.8222, MSE=0.1552, CE=1.0928, LL:0.5308\n",
            "\n",
            "[Epoch 23] Train: ACC=0.8190, MSE=0.1578, CE=1.0988, LL:0.5341\n",
            "           Valid: ACC=0.8222, MSE=0.1521, CE=1.0772, LL:0.5219\n",
            "\n",
            "[Epoch 24] Train: ACC=0.8190, MSE=0.1550, CE=1.0841, LL:0.5254\n",
            "           Valid: ACC=0.8444, MSE=0.1492, CE=1.0619, LL:0.5134\n",
            "\n",
            "[Epoch 25] Train: ACC=0.8190, MSE=0.1522, CE=1.0698, LL:0.5170\n",
            "           Valid: ACC=0.8444, MSE=0.1464, CE=1.0472, LL:0.5051\n",
            "\n",
            "[Epoch 26] Train: ACC=0.8190, MSE=0.1496, CE=1.0559, LL:0.5090\n",
            "           Valid: ACC=0.8444, MSE=0.1436, CE=1.0328, LL:0.4972\n",
            "\n",
            "[Epoch 27] Train: ACC=0.8286, MSE=0.1470, CE=1.0424, LL:0.5012\n",
            "           Valid: ACC=0.8444, MSE=0.1410, CE=1.0188, LL:0.4896\n",
            "\n",
            "[Epoch 28] Train: ACC=0.8381, MSE=0.1445, CE=1.0293, LL:0.4938\n",
            "           Valid: ACC=0.8444, MSE=0.1384, CE=1.0053, LL:0.4822\n",
            "\n",
            "[Epoch 29] Train: ACC=0.8381, MSE=0.1421, CE=1.0164, LL:0.4866\n",
            "           Valid: ACC=0.8889, MSE=0.1359, CE=0.9920, LL:0.4750\n",
            "\n",
            "[Epoch 30] Train: ACC=0.8381, MSE=0.1397, CE=1.0039, LL:0.4796\n",
            "           Valid: ACC=0.8889, MSE=0.1334, CE=0.9791, LL:0.4681\n",
            "\n",
            "[Epoch 31] Train: ACC=0.8381, MSE=0.1374, CE=0.9917, LL:0.4729\n",
            "           Valid: ACC=0.8889, MSE=0.1311, CE=0.9666, LL:0.4615\n",
            "\n",
            "[Epoch 32] Train: ACC=0.8667, MSE=0.1352, CE=0.9798, LL:0.4664\n",
            "           Valid: ACC=0.9111, MSE=0.1288, CE=0.9543, LL:0.4550\n",
            "\n",
            "[Epoch 33] Train: ACC=0.8667, MSE=0.1330, CE=0.9682, LL:0.4600\n",
            "           Valid: ACC=0.9111, MSE=0.1265, CE=0.9424, LL:0.4487\n",
            "\n",
            "[Epoch 34] Train: ACC=0.8667, MSE=0.1309, CE=0.9568, LL:0.4539\n",
            "           Valid: ACC=0.9111, MSE=0.1244, CE=0.9307, LL:0.4426\n",
            "\n",
            "[Epoch 35] Train: ACC=0.8667, MSE=0.1288, CE=0.9457, LL:0.4480\n",
            "           Valid: ACC=0.9111, MSE=0.1222, CE=0.9193, LL:0.4367\n",
            "\n",
            "[Epoch 36] Train: ACC=0.8762, MSE=0.1268, CE=0.9349, LL:0.4422\n",
            "           Valid: ACC=0.9111, MSE=0.1202, CE=0.9081, LL:0.4309\n",
            "\n",
            "[Epoch 37] Train: ACC=0.8762, MSE=0.1248, CE=0.9242, LL:0.4366\n",
            "           Valid: ACC=0.9111, MSE=0.1182, CE=0.8973, LL:0.4254\n",
            "\n",
            "[Epoch 38] Train: ACC=0.8857, MSE=0.1229, CE=0.9138, LL:0.4311\n",
            "           Valid: ACC=0.9111, MSE=0.1162, CE=0.8866, LL:0.4199\n",
            "\n",
            "[Epoch 39] Train: ACC=0.8857, MSE=0.1210, CE=0.9036, LL:0.4258\n",
            "           Valid: ACC=0.9111, MSE=0.1143, CE=0.8762, LL:0.4146\n",
            "\n",
            "[Epoch 40] Train: ACC=0.8857, MSE=0.1191, CE=0.8936, LL:0.4207\n",
            "           Valid: ACC=0.9111, MSE=0.1124, CE=0.8660, LL:0.4095\n",
            "\n",
            "[Epoch 41] Train: ACC=0.8857, MSE=0.1173, CE=0.8839, LL:0.4156\n",
            "           Valid: ACC=0.9111, MSE=0.1106, CE=0.8561, LL:0.4044\n",
            "\n",
            "[Epoch 42] Train: ACC=0.8857, MSE=0.1156, CE=0.8743, LL:0.4107\n",
            "           Valid: ACC=0.9333, MSE=0.1088, CE=0.8464, LL:0.3995\n",
            "\n",
            "[Epoch 43] Train: ACC=0.8857, MSE=0.1139, CE=0.8649, LL:0.4059\n",
            "           Valid: ACC=0.9333, MSE=0.1071, CE=0.8368, LL:0.3948\n",
            "\n",
            "[Epoch 44] Train: ACC=0.8857, MSE=0.1122, CE=0.8557, LL:0.4013\n",
            "           Valid: ACC=0.9333, MSE=0.1054, CE=0.8275, LL:0.3901\n",
            "\n",
            "[Epoch 45] Train: ACC=0.8857, MSE=0.1105, CE=0.8467, LL:0.3967\n",
            "           Valid: ACC=0.9333, MSE=0.1037, CE=0.8183, LL:0.3855\n",
            "\n",
            "[Epoch 46] Train: ACC=0.8857, MSE=0.1089, CE=0.8378, LL:0.3923\n",
            "           Valid: ACC=0.9333, MSE=0.1021, CE=0.8094, LL:0.3811\n",
            "\n",
            "[Epoch 47] Train: ACC=0.9048, MSE=0.1073, CE=0.8291, LL:0.3879\n",
            "           Valid: ACC=0.9333, MSE=0.1005, CE=0.8006, LL:0.3768\n",
            "\n",
            "[Epoch 48] Train: ACC=0.9143, MSE=0.1058, CE=0.8206, LL:0.3837\n",
            "           Valid: ACC=0.9333, MSE=0.0990, CE=0.7921, LL:0.3725\n",
            "\n",
            "[Epoch 49] Train: ACC=0.9143, MSE=0.1043, CE=0.8123, LL:0.3795\n",
            "           Valid: ACC=0.9556, MSE=0.0975, CE=0.7836, LL:0.3684\n",
            "\n",
            "[Epoch 50] Train: ACC=0.9143, MSE=0.1028, CE=0.8041, LL:0.3755\n",
            "           Valid: ACC=0.9556, MSE=0.0960, CE=0.7754, LL:0.3643\n",
            "\n",
            "[Epoch 51] Train: ACC=0.9143, MSE=0.1014, CE=0.7961, LL:0.3715\n",
            "           Valid: ACC=0.9556, MSE=0.0945, CE=0.7673, LL:0.3604\n",
            "\n",
            "[Epoch 52] Train: ACC=0.9143, MSE=0.1000, CE=0.7882, LL:0.3676\n",
            "           Valid: ACC=0.9556, MSE=0.0931, CE=0.7594, LL:0.3565\n",
            "\n",
            "[Epoch 53] Train: ACC=0.9143, MSE=0.0986, CE=0.7805, LL:0.3638\n",
            "           Valid: ACC=0.9556, MSE=0.0918, CE=0.7517, LL:0.3527\n",
            "\n",
            "[Epoch 54] Train: ACC=0.9143, MSE=0.0973, CE=0.7729, LL:0.3601\n",
            "           Valid: ACC=0.9556, MSE=0.0904, CE=0.7441, LL:0.3490\n",
            "\n",
            "[Epoch 55] Train: ACC=0.9238, MSE=0.0959, CE=0.7655, LL:0.3565\n",
            "           Valid: ACC=0.9556, MSE=0.0891, CE=0.7366, LL:0.3453\n",
            "\n",
            "[Epoch 56] Train: ACC=0.9238, MSE=0.0947, CE=0.7582, LL:0.3529\n",
            "           Valid: ACC=0.9556, MSE=0.0878, CE=0.7293, LL:0.3418\n",
            "\n",
            "[Epoch 57] Train: ACC=0.9333, MSE=0.0934, CE=0.7511, LL:0.3494\n",
            "           Valid: ACC=0.9556, MSE=0.0866, CE=0.7222, LL:0.3383\n",
            "\n",
            "[Epoch 58] Train: ACC=0.9333, MSE=0.0922, CE=0.7440, LL:0.3460\n",
            "           Valid: ACC=0.9556, MSE=0.0854, CE=0.7152, LL:0.3349\n",
            "\n",
            "[Epoch 59] Train: ACC=0.9333, MSE=0.0910, CE=0.7372, LL:0.3426\n",
            "           Valid: ACC=0.9556, MSE=0.0842, CE=0.7083, LL:0.3315\n",
            "\n",
            "[Epoch 60] Train: ACC=0.9333, MSE=0.0898, CE=0.7304, LL:0.3394\n",
            "           Valid: ACC=0.9556, MSE=0.0830, CE=0.7016, LL:0.3282\n",
            "\n",
            "[Epoch 61] Train: ACC=0.9333, MSE=0.0886, CE=0.7238, LL:0.3361\n",
            "           Valid: ACC=0.9556, MSE=0.0819, CE=0.6949, LL:0.3250\n",
            "\n",
            "[Epoch 62] Train: ACC=0.9333, MSE=0.0875, CE=0.7173, LL:0.3330\n",
            "           Valid: ACC=0.9556, MSE=0.0808, CE=0.6885, LL:0.3219\n",
            "\n",
            "[Epoch 63] Train: ACC=0.9333, MSE=0.0864, CE=0.7109, LL:0.3299\n",
            "           Valid: ACC=0.9556, MSE=0.0797, CE=0.6821, LL:0.3188\n",
            "\n",
            "[Epoch 64] Train: ACC=0.9333, MSE=0.0853, CE=0.7046, LL:0.3269\n",
            "           Valid: ACC=0.9556, MSE=0.0786, CE=0.6759, LL:0.3158\n",
            "\n",
            "[Epoch 65] Train: ACC=0.9429, MSE=0.0843, CE=0.6984, LL:0.3239\n",
            "           Valid: ACC=0.9556, MSE=0.0776, CE=0.6697, LL:0.3128\n",
            "\n",
            "[Epoch 66] Train: ACC=0.9524, MSE=0.0833, CE=0.6924, LL:0.3210\n",
            "           Valid: ACC=0.9556, MSE=0.0766, CE=0.6637, LL:0.3099\n",
            "\n",
            "[Epoch 67] Train: ACC=0.9524, MSE=0.0823, CE=0.6864, LL:0.3181\n",
            "           Valid: ACC=0.9556, MSE=0.0756, CE=0.6578, LL:0.3070\n",
            "\n",
            "[Epoch 68] Train: ACC=0.9524, MSE=0.0813, CE=0.6806, LL:0.3153\n",
            "           Valid: ACC=0.9556, MSE=0.0746, CE=0.6521, LL:0.3042\n",
            "\n",
            "[Epoch 69] Train: ACC=0.9524, MSE=0.0803, CE=0.6749, LL:0.3125\n",
            "           Valid: ACC=0.9556, MSE=0.0737, CE=0.6464, LL:0.3015\n",
            "\n",
            "[Epoch 70] Train: ACC=0.9524, MSE=0.0794, CE=0.6693, LL:0.3098\n",
            "           Valid: ACC=0.9556, MSE=0.0728, CE=0.6408, LL:0.2988\n",
            "\n",
            "[Epoch 71] Train: ACC=0.9524, MSE=0.0785, CE=0.6637, LL:0.3071\n",
            "           Valid: ACC=0.9556, MSE=0.0719, CE=0.6354, LL:0.2961\n",
            "\n",
            "[Epoch 72] Train: ACC=0.9524, MSE=0.0776, CE=0.6583, LL:0.3045\n",
            "           Valid: ACC=0.9556, MSE=0.0710, CE=0.6300, LL:0.2935\n",
            "\n",
            "[Epoch 73] Train: ACC=0.9619, MSE=0.0767, CE=0.6530, LL:0.3020\n",
            "           Valid: ACC=0.9556, MSE=0.0702, CE=0.6247, LL:0.2909\n",
            "\n",
            "[Epoch 74] Train: ACC=0.9619, MSE=0.0758, CE=0.6478, LL:0.2994\n",
            "           Valid: ACC=0.9556, MSE=0.0693, CE=0.6196, LL:0.2884\n",
            "\n",
            "[Epoch 75] Train: ACC=0.9619, MSE=0.0750, CE=0.6426, LL:0.2970\n",
            "           Valid: ACC=0.9556, MSE=0.0685, CE=0.6145, LL:0.2860\n",
            "\n",
            "[Epoch 76] Train: ACC=0.9619, MSE=0.0742, CE=0.6376, LL:0.2945\n",
            "           Valid: ACC=0.9556, MSE=0.0677, CE=0.6095, LL:0.2835\n",
            "\n",
            "[Epoch 77] Train: ACC=0.9619, MSE=0.0734, CE=0.6326, LL:0.2921\n",
            "           Valid: ACC=0.9556, MSE=0.0669, CE=0.6046, LL:0.2812\n",
            "\n",
            "[Epoch 78] Train: ACC=0.9619, MSE=0.0726, CE=0.6277, LL:0.2898\n",
            "           Valid: ACC=0.9556, MSE=0.0662, CE=0.5998, LL:0.2788\n",
            "\n",
            "[Epoch 79] Train: ACC=0.9619, MSE=0.0718, CE=0.6229, LL:0.2875\n",
            "           Valid: ACC=0.9556, MSE=0.0654, CE=0.5951, LL:0.2765\n",
            "\n",
            "[Epoch 80] Train: ACC=0.9619, MSE=0.0711, CE=0.6182, LL:0.2852\n",
            "           Valid: ACC=0.9556, MSE=0.0647, CE=0.5904, LL:0.2743\n",
            "\n",
            "[Epoch 81] Train: ACC=0.9619, MSE=0.0703, CE=0.6135, LL:0.2830\n",
            "           Valid: ACC=0.9556, MSE=0.0640, CE=0.5859, LL:0.2721\n",
            "\n",
            "[Epoch 82] Train: ACC=0.9619, MSE=0.0696, CE=0.6090, LL:0.2808\n",
            "           Valid: ACC=0.9556, MSE=0.0633, CE=0.5814, LL:0.2699\n",
            "\n",
            "[Epoch 83] Train: ACC=0.9619, MSE=0.0689, CE=0.6045, LL:0.2786\n",
            "           Valid: ACC=0.9556, MSE=0.0626, CE=0.5770, LL:0.2677\n",
            "\n",
            "[Epoch 84] Train: ACC=0.9619, MSE=0.0682, CE=0.6001, LL:0.2765\n",
            "           Valid: ACC=0.9556, MSE=0.0620, CE=0.5727, LL:0.2656\n",
            "\n",
            "[Epoch 85] Train: ACC=0.9619, MSE=0.0676, CE=0.5958, LL:0.2744\n",
            "           Valid: ACC=0.9556, MSE=0.0613, CE=0.5684, LL:0.2636\n",
            "\n",
            "[Epoch 86] Train: ACC=0.9619, MSE=0.0669, CE=0.5915, LL:0.2724\n",
            "           Valid: ACC=0.9556, MSE=0.0607, CE=0.5643, LL:0.2615\n",
            "\n",
            "[Epoch 87] Train: ACC=0.9619, MSE=0.0663, CE=0.5873, LL:0.2704\n",
            "           Valid: ACC=0.9556, MSE=0.0601, CE=0.5602, LL:0.2595\n",
            "\n",
            "[Epoch 88] Train: ACC=0.9619, MSE=0.0656, CE=0.5832, LL:0.2684\n",
            "           Valid: ACC=0.9556, MSE=0.0595, CE=0.5561, LL:0.2576\n",
            "\n",
            "[Epoch 89] Train: ACC=0.9619, MSE=0.0650, CE=0.5791, LL:0.2665\n",
            "           Valid: ACC=0.9556, MSE=0.0589, CE=0.5522, LL:0.2557\n",
            "\n",
            "[Epoch 90] Train: ACC=0.9619, MSE=0.0644, CE=0.5752, LL:0.2646\n",
            "           Valid: ACC=0.9556, MSE=0.0583, CE=0.5483, LL:0.2538\n",
            "\n",
            "[Epoch 91] Train: ACC=0.9619, MSE=0.0638, CE=0.5712, LL:0.2627\n",
            "           Valid: ACC=0.9556, MSE=0.0577, CE=0.5445, LL:0.2519\n",
            "\n",
            "[Epoch 92] Train: ACC=0.9619, MSE=0.0632, CE=0.5674, LL:0.2609\n",
            "           Valid: ACC=0.9556, MSE=0.0572, CE=0.5407, LL:0.2501\n",
            "\n",
            "[Epoch 93] Train: ACC=0.9619, MSE=0.0627, CE=0.5636, LL:0.2591\n",
            "           Valid: ACC=0.9556, MSE=0.0566, CE=0.5370, LL:0.2483\n",
            "\n",
            "[Epoch 94] Train: ACC=0.9619, MSE=0.0621, CE=0.5599, LL:0.2573\n",
            "           Valid: ACC=0.9556, MSE=0.0561, CE=0.5334, LL:0.2466\n",
            "\n",
            "[Epoch 95] Train: ACC=0.9619, MSE=0.0616, CE=0.5562, LL:0.2555\n",
            "           Valid: ACC=0.9556, MSE=0.0556, CE=0.5298, LL:0.2448\n",
            "\n",
            "[Epoch 96] Train: ACC=0.9619, MSE=0.0611, CE=0.5526, LL:0.2538\n",
            "           Valid: ACC=0.9556, MSE=0.0551, CE=0.5263, LL:0.2432\n",
            "\n",
            "[Epoch 97] Train: ACC=0.9619, MSE=0.0605, CE=0.5490, LL:0.2521\n",
            "           Valid: ACC=0.9556, MSE=0.0546, CE=0.5229, LL:0.2415\n",
            "\n",
            "[Epoch 98] Train: ACC=0.9619, MSE=0.0600, CE=0.5455, LL:0.2505\n",
            "           Valid: ACC=0.9556, MSE=0.0541, CE=0.5195, LL:0.2399\n",
            "\n",
            "[Epoch 99] Train: ACC=0.9619, MSE=0.0595, CE=0.5421, LL:0.2489\n",
            "           Valid: ACC=0.9556, MSE=0.0537, CE=0.5161, LL:0.2383\n",
            "\n",
            "Epoch 99 complete\n"
          ]
        }
      ]
    },
    {
      "cell_type": "code",
      "source": [
        "data_set=np.array(data_set)\n",
        "data_set.shape"
      ],
      "metadata": {
        "colab": {
          "base_uri": "https://localhost:8080/",
          "height": 0
        },
        "id": "rDb3M_SbPH4m",
        "outputId": "5304bc0e-136a-4f76-a0b1-a0cc57c67c2e"
      },
      "execution_count": 11,
      "outputs": [
        {
          "output_type": "execute_result",
          "data": {
            "text/plain": [
              "(2, 100, 5)"
            ]
          },
          "metadata": {},
          "execution_count": 11
        }
      ]
    },
    {
      "cell_type": "code",
      "source": [
        "plt.plot(data_set[0,:,2],label=\"Train\")\n",
        "plt.plot(data_set[1,:,2],label=\"Test\")\n",
        "plt.xlabel(\"Epoch_count\")\n",
        "plt.ylabel(\"Loss\")\n",
        "plt.title(\"MSE\")\n",
        "plt.legend()\n",
        "plt.show()"
      ],
      "metadata": {
        "colab": {
          "base_uri": "https://localhost:8080/",
          "height": 296
        },
        "id": "mpl-rwIXPPS2",
        "outputId": "d4c63276-3210-434e-8815-62ecccc8b9ee"
      },
      "execution_count": 16,
      "outputs": [
        {
          "output_type": "display_data",
          "data": {
            "text/plain": [
              "<Figure size 432x288 with 1 Axes>"
            ],
            "image/png": "[encoded data removed]"
          },
          "metadata": {
            "needs_background": "light"
          }
        }
      ]
    },
    {
      "cell_type": "code",
      "source": [
        "plt.plot(data_set[0,:,3],label=\"Train\")\n",
        "plt.plot(data_set[1,:,3],label=\"Test\")\n",
        "plt.xlabel(\"Epoch_count\")\n",
        "plt.ylabel(\"Loss\")\n",
        "plt.title(\"CE\")\n",
        "plt.legend()\n",
        "plt.show()"
      ],
      "metadata": {
        "colab": {
          "base_uri": "https://localhost:8080/",
          "height": 296
        },
        "id": "LoB46kqhPVCV",
        "outputId": "8cee5259-7872-4914-c3f3-fbaa3d15a381"
      },
      "execution_count": 13,
      "outputs": [
        {
          "output_type": "display_data",
          "data": {
            "text/plain": [
              "<Figure size 432x288 with 1 Axes>"
            ],
            "image/png": "[encoded data removed]"
          },
          "metadata": {
            "needs_background": "light"
          }
        }
      ]
    },
    {
      "cell_type": "code",
      "source": [
        "plt.plot(data_set[0,:,4],label=\"Train\")\n",
        "plt.plot(data_set[1,:,4],label=\"Test\")\n",
        "plt.xlabel(\"Epoch_count\")\n",
        "plt.ylabel(\"Loss\")\n",
        "plt.title(\"LL\")\n",
        "plt.legend()\n",
        "plt.show()"
      ],
      "metadata": {
        "id": "KOPe_fG9Pdet",
        "colab": {
          "base_uri": "https://localhost:8080/",
          "height": 296
        },
        "outputId": "7239a1df-e6cf-4575-9b54-4a2f11e69ed8"
      },
      "execution_count": 14,
      "outputs": [
        {
          "output_type": "display_data",
          "data": {
            "text/plain": [
              "<Figure size 432x288 with 1 Axes>"
            ],
            "image/png": "[encoded data removed]"
          },
          "metadata": {
            "needs_background": "light"
          }
        }
      ]
    },
    {
      "cell_type": "code",
      "source": [
        "plt.plot(data_set[0,:,1],label=\"Train\")\n",
        "plt.plot(data_set[1,:,1],label=\"Test\")\n",
        "plt.xlabel(\"Epoch_count\")\n",
        "plt.ylabel(\"Accuracy\")\n",
        "plt.title(\"accuracy\")\n",
        "plt.legend()\n",
        "plt.show()"
      ],
      "metadata": {
        "colab": {
          "base_uri": "https://localhost:8080/",
          "height": 296
        },
        "id": "qPF6mvRdYCMy",
        "outputId": "b1c8d724-3de6-45d5-ec29-3d36f8918186"
      },
      "execution_count": 15,
      "outputs": [
        {
          "output_type": "display_data",
          "data": {
            "text/plain": [
              "<Figure size 432x288 with 1 Axes>"
            ],
            "image/png": "[encoded data removed]"
          },
          "metadata": {
            "needs_background": "light"
          }
        }
      ]
    }
  ]
}