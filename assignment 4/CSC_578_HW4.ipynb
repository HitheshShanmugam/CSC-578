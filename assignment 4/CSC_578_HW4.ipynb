{
  "cells": [
    {
      "cell_type": "markdown",
      "metadata": {
        "id": "jYysdyb-CaWM"
      },
      "source": [
        "# CSC 578 Week 6 (10/17): Hyperparameter tuning with Basic classification"
      ]
    },
    {
      "cell_type": "markdown",
      "source": [
        "CSC 578 \n",
        "Hithesh Shanmugam\n",
        "Assignment 4 \n",
        "\n"
      ],
      "metadata": {
        "id": "1fhnjlvqfkHU"
      }
    },
    {
      "cell_type": "code",
      "execution_count": 2,
      "metadata": {
        "id": "dzLKpmZICaWN",
        "colab": {
          "base_uri": "https://localhost:8080/"
        },
        "outputId": "0b862f98-435d-4c17-9899-f5d830d29c98"
      },
      "outputs": [
        {
          "output_type": "stream",
          "name": "stdout",
          "text": [
            "2.9.2\n"
          ]
        }
      ],
      "source": [
        "# TensorFlow and tf.keras\n",
        "import tensorflow as tf\n",
        "\n",
        "# Helper libraries\n",
        "import numpy as np\n",
        "import matplotlib.pyplot as plt\n",
        "\n",
        "print(tf.__version__)"
      ]
    },
    {
      "cell_type": "markdown",
      "metadata": {
        "id": "yR0EdgrLCaWR"
      },
      "source": [
        "## Import the Fashion MNIST dataset"
      ]
    },
    {
      "cell_type": "code",
      "execution_count": 3,
      "metadata": {
        "id": "7MqDQO0KCaWS",
        "colab": {
          "base_uri": "https://localhost:8080/"
        },
        "outputId": "9d9cf2df-7395-42d5-ae0a-6630e89d2983"
      },
      "outputs": [
        {
          "output_type": "stream",
          "name": "stdout",
          "text": [
            "Downloading data from https://storage.googleapis.com/tensorflow/tf-keras-datasets/train-labels-idx1-ubyte.gz\n",
            "29515/29515 [==============================] - 0s 0us/step\n",
            "Downloading data from https://storage.googleapis.com/tensorflow/tf-keras-datasets/train-images-idx3-ubyte.gz\n",
            "26421880/26421880 [==============================] - 0s 0us/step\n",
            "Downloading data from https://storage.googleapis.com/tensorflow/tf-keras-datasets/t10k-labels-idx1-ubyte.gz\n",
            "5148/5148 [==============================] - 0s 0us/step\n",
            "Downloading data from https://storage.googleapis.com/tensorflow/tf-keras-datasets/t10k-images-idx3-ubyte.gz\n",
            "4422102/4422102 [==============================] - 0s 0us/step\n"
          ]
        }
      ],
      "source": [
        "fashion_mnist = tf.keras.datasets.fashion_mnist\n",
        "\n",
        "(train_images, train_labels), (test_images, test_labels) = fashion_mnist.load_data()"
      ]
    },
    {
      "cell_type": "code",
      "execution_count": 4,
      "metadata": {
        "id": "IjnLH5S2CaWx"
      },
      "outputs": [],
      "source": [
        "class_names = ['T-shirt/top', 'Trouser', 'Pullover', 'Dress', 'Coat',\n",
        "               'Sandal', 'Shirt', 'Sneaker', 'Bag', 'Ankle boot']"
      ]
    },
    {
      "cell_type": "markdown",
      "metadata": {
        "id": "ES6uQoLKCaWr"
      },
      "source": [
        "## Preprocess the data\n",
        "\n",
        "The data must be preprocessed before training the network. If you inspect the first image in the training set, you will see that the pixel values fall in the range of 0 to 255:"
      ]
    },
    {
      "cell_type": "code",
      "execution_count": 5,
      "metadata": {
        "id": "bW5WzIPlCaWv"
      },
      "outputs": [],
      "source": [
        "train_images = train_images / 255.0\n",
        "\n",
        "test_images = test_images / 255.0"
      ]
    },
    {
      "cell_type": "code",
      "source": [
        "print (\"train: {}, {}\".format(str(train_images.shape), str(train_labels.shape)))\n",
        "print (\"test: {}, {}\".format(str(test_images.shape), str(test_labels.shape)))"
      ],
      "metadata": {
        "colab": {
          "base_uri": "https://localhost:8080/"
        },
        "id": "OIpJwfOr_hqH",
        "outputId": "84d13d4e-c786-49aa-dba2-697d487eccd8"
      },
      "execution_count": 6,
      "outputs": [
        {
          "output_type": "stream",
          "name": "stdout",
          "text": [
            "train: (60000, 28, 28), (60000,)\n",
            "test: (10000, 28, 28), (10000,)\n"
          ]
        }
      ]
    },
    {
      "cell_type": "markdown",
      "metadata": {
        "id": "59veuiEZCaW4"
      },
      "source": [
        "## Build the model\n",
        "\n",
        "Building the neural network requires configuring the layers of the model, then compiling the model."
      ]
    },
    {
      "cell_type": "code",
      "execution_count": 7,
      "metadata": {
        "id": "9ODch-OFCaW4"
      },
      "outputs": [],
      "source": [
        "model = tf.keras.Sequential([\n",
        "    tf.keras.layers.Flatten(input_shape=(28, 28)),\n",
        "    tf.keras.layers.Dense(128, activation='relu'),       \n",
        "    tf.keras.layers.Dense(10)\n",
        "])"
      ]
    },
    {
      "cell_type": "code",
      "source": [
        "model1 = tf.keras.Sequential([\n",
        "    tf.keras.layers.Flatten(input_shape=(28, 28)),\n",
        "    tf.keras.layers.Dense(128, activation='relu'), \n",
        "    tf.keras.layers.Dense(32, activation='relu'),\n",
        "    tf.keras.layers.Dense(10)\n",
        "])"
      ],
      "metadata": {
        "id": "jl4Z5dB9G6hV"
      },
      "execution_count": 8,
      "outputs": []
    },
    {
      "cell_type": "code",
      "source": [
        "model2 = tf.keras.Sequential([\n",
        "    tf.keras.layers.Flatten(input_shape=(28, 28)),\n",
        "    tf.keras.layers.Dense(128, activation='relu'), \n",
        "    tf.keras.layers.Dense(32, activation='relu'),\n",
        "    tf.keras.layers.Dense(10)\n",
        "])"
      ],
      "metadata": {
        "id": "qUr6AG7_H7zt"
      },
      "execution_count": 9,
      "outputs": []
    },
    {
      "cell_type": "code",
      "source": [
        "model3 = tf.keras.Sequential([\n",
        "    tf.keras.layers.Flatten(input_shape=(28, 28)),\n",
        "    tf.keras.layers.Dense(128, activation='relu'), \n",
        "    tf.keras.layers.Dense(32, activation='relu'),\n",
        "    tf.keras.layers.Dense(10)\n",
        "])"
      ],
      "metadata": {
        "id": "f9IjPJATIK9n"
      },
      "execution_count": 10,
      "outputs": []
    },
    {
      "cell_type": "code",
      "source": [
        "model4 = tf.keras.Sequential([\n",
        "    tf.keras.layers.Flatten(input_shape=(28, 28)),\n",
        "    tf.keras.layers.Dense(128, activation='relu', \n",
        "           kernel_regularizer=tf.keras.regularizers.L1L2(l1=1e-5, l2=1e-4)), \n",
        "    tf.keras.layers.Dense(32, activation='relu'),\n",
        "    tf.keras.layers.Dense(10)\n",
        "])"
      ],
      "metadata": {
        "id": "hm9OslVcIwU9"
      },
      "execution_count": 11,
      "outputs": []
    },
    {
      "cell_type": "code",
      "source": [
        "model5 = tf.keras.Sequential([\n",
        "    tf.keras.layers.Flatten(input_shape=(28, 28)),\n",
        "    tf.keras.layers.Dense(128, activation='relu', \n",
        "           kernel_regularizer=tf.keras.regularizers.L1(1e-5)),\n",
        "    tf.keras.layers.Dense(32, activation='relu'),\n",
        "    tf.keras.layers.Dense(10)\n",
        "])"
      ],
      "metadata": {
        "id": "dAgN_lcQIiPS"
      },
      "execution_count": 12,
      "outputs": []
    },
    {
      "cell_type": "code",
      "source": [
        "model6 = tf.keras.Sequential([\n",
        "    tf.keras.layers.Flatten(input_shape=(28, 28)),\n",
        "    tf.keras.layers.Dense(128, activation='relu'), \n",
        "    tf.keras.layers.Dropout(0.3),\n",
        "    tf.keras.layers.Dense(32, activation='relu'),\n",
        "    tf.keras.layers.Dense(10)\n",
        "])"
      ],
      "metadata": {
        "id": "4HtZCbV3Jwmh"
      },
      "execution_count": 13,
      "outputs": []
    },
    {
      "cell_type": "code",
      "source": [
        "model7 = tf.keras.Sequential([\n",
        "    tf.keras.layers.Flatten(input_shape=(28, 28)),\n",
        "    tf.keras.layers.Dense(128, activation='relu', \n",
        "           kernel_regularizer=tf.keras.regularizers.L1L2(l1=1e-5, l2=1e-4)),\n",
        "    tf.keras.layers.Dense(128, activation='relu', \n",
        "           kernel_regularizer=tf.keras.regularizers.L1(1e-5)),\n",
        "    tf.keras.layers.Dropout(0.3),\n",
        "    tf.keras.layers.Dense(32, activation='relu'),\n",
        "    tf.keras.layers.Dense(10)\n",
        "])"
      ],
      "metadata": {
        "id": "ZHHqnsxCKNN-"
      },
      "execution_count": 14,
      "outputs": []
    },
    {
      "cell_type": "markdown",
      "metadata": {
        "id": "gut8A_7rCaW6"
      },
      "source": [
        "### Compile the model\n",
        "\n",
        "Before the model is ready for training, it needs a few more settings. These are added during the model's [*compile*](https://www.tensorflow.org/api_docs/python/tf/keras/Model#compile) step:\n",
        "\n",
        "* [*Loss function*](https://www.tensorflow.org/api_docs/python/tf/keras/losses) —This measures how accurate the model is during training. You want to minimize this function to \"steer\" the model in the right direction.\n",
        "* [*Optimizer*](https://www.tensorflow.org/api_docs/python/tf/keras/optimizers) —This is how the model is updated based on the data it sees and its loss function.\n",
        "* [*Metrics*](https://www.tensorflow.org/api_docs/python/tf/keras/metrics) —Used to monitor the training and testing steps. The following example uses *accuracy*, the fraction of the images that are correctly classified."
      ]
    },
    {
      "cell_type": "code",
      "execution_count": 15,
      "metadata": {
        "id": "Lhan11blCaW7"
      },
      "outputs": [],
      "source": [
        "opt = tf.keras.optimizers.Adam(learning_rate=0.0001)\n",
        "model.compile(optimizer=opt, #'adam',\n",
        "              loss=tf.keras.losses.SparseCategoricalCrossentropy(from_logits=True),\n",
        "              metrics=['accuracy'])"
      ]
    },
    {
      "cell_type": "code",
      "source": [
        "opt1 = tf.keras.optimizers.Adam(learning_rate=0.0001)\n",
        "model1.compile(optimizer=opt1, #'adam',\n",
        "              loss=tf.keras.losses.SparseCategoricalCrossentropy(from_logits=True),\n",
        "              metrics=['accuracy'])"
      ],
      "metadata": {
        "id": "33zYQ7HzKeRh"
      },
      "execution_count": 16,
      "outputs": []
    },
    {
      "cell_type": "code",
      "source": [
        "opt2 = tf.keras.optimizers.Adam(learning_rate=0.01)\n",
        "model2.compile(optimizer=opt2, #'adam',\n",
        "              loss=tf.keras.losses.SparseCategoricalCrossentropy(from_logits=True),\n",
        "              metrics=['accuracy'])"
      ],
      "metadata": {
        "id": "7n-QrA9VKg_i"
      },
      "execution_count": 17,
      "outputs": []
    },
    {
      "cell_type": "code",
      "source": [
        "opt3 = tf.keras.optimizers.Adam(learning_rate=0.001)\n",
        "model3.compile(optimizer=opt3, #'adam',\n",
        "              loss=tf.keras.losses.SparseCategoricalCrossentropy(from_logits=True),\n",
        "              metrics=['accuracy'])"
      ],
      "metadata": {
        "id": "r81tQgBTKhkb"
      },
      "execution_count": 18,
      "outputs": []
    },
    {
      "cell_type": "code",
      "source": [
        "opt4 = tf.keras.optimizers.Adam(learning_rate=0.001)\n",
        "model4.compile(optimizer=opt4, #'adam',\n",
        "              loss=tf.keras.losses.SparseCategoricalCrossentropy(from_logits=True),\n",
        "              metrics=['accuracy'])"
      ],
      "metadata": {
        "id": "0gBc5P8tKj1T"
      },
      "execution_count": 19,
      "outputs": []
    },
    {
      "cell_type": "code",
      "source": [
        "opt5 = tf.keras.optimizers.Adam(learning_rate=0.001)\n",
        "model5.compile(optimizer=opt5, #'adam',\n",
        "              loss=tf.keras.losses.SparseCategoricalCrossentropy(from_logits=True),\n",
        "              metrics=['accuracy'])"
      ],
      "metadata": {
        "id": "YItaK3HXKkY4"
      },
      "execution_count": 20,
      "outputs": []
    },
    {
      "cell_type": "code",
      "source": [
        "opt6 = tf.keras.optimizers.Adam(learning_rate=0.001)\n",
        "model6.compile(optimizer=opt6, #'adam',\n",
        "              loss=tf.keras.losses.SparseCategoricalCrossentropy(from_logits=True),\n",
        "              metrics=['accuracy'])"
      ],
      "metadata": {
        "id": "wRNVGlnzKlZd"
      },
      "execution_count": 21,
      "outputs": []
    },
    {
      "cell_type": "code",
      "source": [
        "opt7 = tf.keras.optimizers.Adam(learning_rate=0.001)\n",
        "model7.compile(optimizer=opt7, #'adam',\n",
        "              loss=tf.keras.losses.SparseCategoricalCrossentropy(from_logits=True),\n",
        "              metrics=['accuracy'])"
      ],
      "metadata": {
        "id": "3kDChJkVKl4Q"
      },
      "execution_count": 22,
      "outputs": []
    },
    {
      "cell_type": "markdown",
      "metadata": {
        "id": "qKF6uW-BCaW-"
      },
      "source": [
        "## Train the model\n",
        "\n",
        "To start training,  call the [`model.fit`](https://www.tensorflow.org/api_docs/python/tf/keras/Model#fit) method—so called because it \"fits\" the model to the training data:\n"
      ]
    },
    {
      "cell_type": "code",
      "execution_count": 23,
      "metadata": {
        "id": "xvwvpA64CaW_",
        "colab": {
          "base_uri": "https://localhost:8080/"
        },
        "outputId": "b0ff1a3f-0379-4beb-c1df-bc6074bf94e9"
      },
      "outputs": [
        {
          "output_type": "stream",
          "name": "stdout",
          "text": [
            "Epoch 1/20\n",
            "1688/1688 [==============================] - 7s 4ms/step - loss: 0.7199 - accuracy: 0.7700 - val_loss: 0.5202 - val_accuracy: 0.8258\n",
            "Epoch 2/20\n",
            "1688/1688 [==============================] - 6s 3ms/step - loss: 0.4880 - accuracy: 0.8374 - val_loss: 0.4577 - val_accuracy: 0.8420\n",
            "Epoch 3/20\n",
            "1688/1688 [==============================] - 6s 3ms/step - loss: 0.4430 - accuracy: 0.8490 - val_loss: 0.4234 - val_accuracy: 0.8528\n",
            "Epoch 4/20\n",
            "1688/1688 [==============================] - 7s 4ms/step - loss: 0.4153 - accuracy: 0.8583 - val_loss: 0.4110 - val_accuracy: 0.8587\n",
            "Epoch 5/20\n",
            "1688/1688 [==============================] - 6s 3ms/step - loss: 0.3963 - accuracy: 0.8647 - val_loss: 0.4006 - val_accuracy: 0.8615\n",
            "Epoch 6/20\n",
            "1688/1688 [==============================] - 7s 4ms/step - loss: 0.3809 - accuracy: 0.8679 - val_loss: 0.3907 - val_accuracy: 0.8625\n",
            "Epoch 7/20\n",
            "1688/1688 [==============================] - 6s 3ms/step - loss: 0.3698 - accuracy: 0.8713 - val_loss: 0.3827 - val_accuracy: 0.8665\n",
            "Epoch 8/20\n",
            "1688/1688 [==============================] - 6s 3ms/step - loss: 0.3602 - accuracy: 0.8746 - val_loss: 0.3806 - val_accuracy: 0.8653\n",
            "Epoch 9/20\n",
            "1688/1688 [==============================] - 6s 3ms/step - loss: 0.3507 - accuracy: 0.8777 - val_loss: 0.3646 - val_accuracy: 0.8707\n",
            "Epoch 10/20\n",
            "1688/1688 [==============================] - 6s 3ms/step - loss: 0.3431 - accuracy: 0.8789 - val_loss: 0.3616 - val_accuracy: 0.8727\n",
            "Epoch 11/20\n",
            "1688/1688 [==============================] - 6s 3ms/step - loss: 0.3358 - accuracy: 0.8823 - val_loss: 0.3564 - val_accuracy: 0.8767\n",
            "Epoch 12/20\n",
            "1688/1688 [==============================] - 6s 3ms/step - loss: 0.3291 - accuracy: 0.8847 - val_loss: 0.3571 - val_accuracy: 0.8753\n",
            "Epoch 13/20\n",
            "1688/1688 [==============================] - 6s 4ms/step - loss: 0.3233 - accuracy: 0.8861 - val_loss: 0.3500 - val_accuracy: 0.8757\n",
            "Epoch 14/20\n",
            "1688/1688 [==============================] - 6s 3ms/step - loss: 0.3176 - accuracy: 0.8876 - val_loss: 0.3445 - val_accuracy: 0.8770\n",
            "Epoch 15/20\n",
            "1688/1688 [==============================] - 6s 3ms/step - loss: 0.3131 - accuracy: 0.8896 - val_loss: 0.3395 - val_accuracy: 0.8777\n",
            "Epoch 16/20\n",
            "1688/1688 [==============================] - 6s 3ms/step - loss: 0.3074 - accuracy: 0.8907 - val_loss: 0.3460 - val_accuracy: 0.8777\n",
            "Epoch 17/20\n",
            "1688/1688 [==============================] - 6s 3ms/step - loss: 0.3036 - accuracy: 0.8919 - val_loss: 0.3410 - val_accuracy: 0.8790\n",
            "Epoch 18/20\n",
            "1688/1688 [==============================] - 6s 4ms/step - loss: 0.2989 - accuracy: 0.8938 - val_loss: 0.3487 - val_accuracy: 0.8765\n",
            "Epoch 19/20\n",
            "1688/1688 [==============================] - 6s 4ms/step - loss: 0.2937 - accuracy: 0.8961 - val_loss: 0.3368 - val_accuracy: 0.8792\n",
            "Epoch 20/20\n",
            "1688/1688 [==============================] - 6s 4ms/step - loss: 0.2902 - accuracy: 0.8973 - val_loss: 0.3328 - val_accuracy: 0.8812\n"
          ]
        }
      ],
      "source": [
        "# With validation set (10%) -- using the 'validation_split' parameter in fit()\n",
        "history = model.fit(train_images, train_labels, validation_split=0.1, epochs=20)"
      ]
    },
    {
      "cell_type": "code",
      "source": [
        "history1 = model1.fit(train_images, train_labels, validation_split=0.1, epochs=20)"
      ],
      "metadata": {
        "colab": {
          "base_uri": "https://localhost:8080/"
        },
        "id": "Nrd5Bv-HLSLl",
        "outputId": "65f2a361-db04-48f9-a6ef-13bb3bbe5ccf"
      },
      "execution_count": 24,
      "outputs": [
        {
          "output_type": "stream",
          "name": "stdout",
          "text": [
            "Epoch 1/20\n",
            "1688/1688 [==============================] - 7s 4ms/step - loss: 0.7267 - accuracy: 0.7704 - val_loss: 0.5094 - val_accuracy: 0.8268\n",
            "Epoch 2/20\n",
            "1688/1688 [==============================] - 6s 4ms/step - loss: 0.4716 - accuracy: 0.8369 - val_loss: 0.4505 - val_accuracy: 0.8383\n",
            "Epoch 3/20\n",
            "1688/1688 [==============================] - 6s 4ms/step - loss: 0.4288 - accuracy: 0.8514 - val_loss: 0.4224 - val_accuracy: 0.8497\n",
            "Epoch 4/20\n",
            "1688/1688 [==============================] - 6s 4ms/step - loss: 0.4031 - accuracy: 0.8597 - val_loss: 0.4185 - val_accuracy: 0.8473\n",
            "Epoch 5/20\n",
            "1688/1688 [==============================] - 6s 4ms/step - loss: 0.3842 - accuracy: 0.8656 - val_loss: 0.3864 - val_accuracy: 0.8623\n",
            "Epoch 6/20\n",
            "1688/1688 [==============================] - 7s 4ms/step - loss: 0.3694 - accuracy: 0.8712 - val_loss: 0.3727 - val_accuracy: 0.8683\n",
            "Epoch 7/20\n",
            "1688/1688 [==============================] - 6s 4ms/step - loss: 0.3567 - accuracy: 0.8744 - val_loss: 0.3705 - val_accuracy: 0.8723\n",
            "Epoch 8/20\n",
            "1688/1688 [==============================] - 6s 4ms/step - loss: 0.3461 - accuracy: 0.8795 - val_loss: 0.3630 - val_accuracy: 0.8717\n",
            "Epoch 9/20\n",
            "1688/1688 [==============================] - 6s 3ms/step - loss: 0.3369 - accuracy: 0.8812 - val_loss: 0.3569 - val_accuracy: 0.8757\n",
            "Epoch 10/20\n",
            "1688/1688 [==============================] - 6s 3ms/step - loss: 0.3285 - accuracy: 0.8839 - val_loss: 0.3525 - val_accuracy: 0.8747\n",
            "Epoch 11/20\n",
            "1688/1688 [==============================] - 6s 3ms/step - loss: 0.3208 - accuracy: 0.8873 - val_loss: 0.3441 - val_accuracy: 0.8783\n",
            "Epoch 12/20\n",
            "1688/1688 [==============================] - 6s 3ms/step - loss: 0.3139 - accuracy: 0.8884 - val_loss: 0.3549 - val_accuracy: 0.8775\n",
            "Epoch 13/20\n",
            "1688/1688 [==============================] - 6s 4ms/step - loss: 0.3065 - accuracy: 0.8910 - val_loss: 0.3389 - val_accuracy: 0.8800\n",
            "Epoch 14/20\n",
            "1688/1688 [==============================] - 7s 4ms/step - loss: 0.3009 - accuracy: 0.8934 - val_loss: 0.3386 - val_accuracy: 0.8815\n",
            "Epoch 15/20\n",
            "1688/1688 [==============================] - 6s 4ms/step - loss: 0.2961 - accuracy: 0.8954 - val_loss: 0.3386 - val_accuracy: 0.8823\n",
            "Epoch 16/20\n",
            "1688/1688 [==============================] - 7s 4ms/step - loss: 0.2901 - accuracy: 0.8957 - val_loss: 0.3384 - val_accuracy: 0.8820\n",
            "Epoch 17/20\n",
            "1688/1688 [==============================] - 6s 4ms/step - loss: 0.2829 - accuracy: 0.8990 - val_loss: 0.3385 - val_accuracy: 0.8817\n",
            "Epoch 18/20\n",
            "1688/1688 [==============================] - 6s 4ms/step - loss: 0.2800 - accuracy: 0.8996 - val_loss: 0.3296 - val_accuracy: 0.8827\n",
            "Epoch 19/20\n",
            "1688/1688 [==============================] - 6s 4ms/step - loss: 0.2744 - accuracy: 0.9022 - val_loss: 0.3254 - val_accuracy: 0.8803\n",
            "Epoch 20/20\n",
            "1688/1688 [==============================] - 6s 4ms/step - loss: 0.2693 - accuracy: 0.9043 - val_loss: 0.3241 - val_accuracy: 0.8857\n"
          ]
        }
      ]
    },
    {
      "cell_type": "code",
      "source": [
        "history2 = model2.fit(train_images, train_labels, validation_split=0.1, epochs=20)"
      ],
      "metadata": {
        "colab": {
          "base_uri": "https://localhost:8080/"
        },
        "id": "H9vggrqOLVdh",
        "outputId": "ed3b2cee-515a-4b27-8a86-4e5d78bf5635"
      },
      "execution_count": 30,
      "outputs": [
        {
          "output_type": "stream",
          "name": "stdout",
          "text": [
            "Epoch 1/20\n",
            "1688/1688 [==============================] - 7s 4ms/step - loss: 0.5438 - accuracy: 0.8047 - val_loss: 0.4554 - val_accuracy: 0.8458\n",
            "Epoch 2/20\n",
            "1688/1688 [==============================] - 7s 4ms/step - loss: 0.4375 - accuracy: 0.8440 - val_loss: 0.4346 - val_accuracy: 0.8503\n",
            "Epoch 3/20\n",
            "1688/1688 [==============================] - 7s 4ms/step - loss: 0.4066 - accuracy: 0.8545 - val_loss: 0.4383 - val_accuracy: 0.8505\n",
            "Epoch 4/20\n",
            "1688/1688 [==============================] - 6s 4ms/step - loss: 0.3956 - accuracy: 0.8571 - val_loss: 0.4201 - val_accuracy: 0.8415\n",
            "Epoch 5/20\n",
            "1688/1688 [==============================] - 7s 4ms/step - loss: 0.3870 - accuracy: 0.8634 - val_loss: 0.4244 - val_accuracy: 0.8508\n",
            "Epoch 6/20\n",
            "1688/1688 [==============================] - 6s 4ms/step - loss: 0.3740 - accuracy: 0.8663 - val_loss: 0.3973 - val_accuracy: 0.8653\n",
            "Epoch 7/20\n",
            "1688/1688 [==============================] - 7s 4ms/step - loss: 0.3736 - accuracy: 0.8682 - val_loss: 0.3999 - val_accuracy: 0.8618\n",
            "Epoch 8/20\n",
            "1688/1688 [==============================] - 6s 4ms/step - loss: 0.3613 - accuracy: 0.8714 - val_loss: 0.3994 - val_accuracy: 0.8640\n",
            "Epoch 9/20\n",
            "1688/1688 [==============================] - 7s 4ms/step - loss: 0.3590 - accuracy: 0.8718 - val_loss: 0.5066 - val_accuracy: 0.8395\n",
            "Epoch 10/20\n",
            "1688/1688 [==============================] - 6s 4ms/step - loss: 0.3508 - accuracy: 0.8751 - val_loss: 0.4272 - val_accuracy: 0.8587\n",
            "Epoch 11/20\n",
            "1688/1688 [==============================] - 7s 4ms/step - loss: 0.3511 - accuracy: 0.8754 - val_loss: 0.4044 - val_accuracy: 0.8688\n",
            "Epoch 12/20\n",
            "1688/1688 [==============================] - 6s 4ms/step - loss: 0.3482 - accuracy: 0.8770 - val_loss: 0.4258 - val_accuracy: 0.8622\n",
            "Epoch 13/20\n",
            "1688/1688 [==============================] - 6s 4ms/step - loss: 0.3437 - accuracy: 0.8792 - val_loss: 0.4519 - val_accuracy: 0.8528\n",
            "Epoch 14/20\n",
            "1688/1688 [==============================] - 6s 4ms/step - loss: 0.3420 - accuracy: 0.8770 - val_loss: 0.4353 - val_accuracy: 0.8635\n",
            "Epoch 15/20\n",
            "1688/1688 [==============================] - 6s 4ms/step - loss: 0.3374 - accuracy: 0.8821 - val_loss: 0.4446 - val_accuracy: 0.8590\n",
            "Epoch 16/20\n",
            "1688/1688 [==============================] - 6s 4ms/step - loss: 0.3435 - accuracy: 0.8785 - val_loss: 0.4169 - val_accuracy: 0.8667\n",
            "Epoch 17/20\n",
            "1688/1688 [==============================] - 6s 4ms/step - loss: 0.3334 - accuracy: 0.8814 - val_loss: 0.4098 - val_accuracy: 0.8690\n",
            "Epoch 18/20\n",
            "1688/1688 [==============================] - 6s 4ms/step - loss: 0.3316 - accuracy: 0.8838 - val_loss: 0.4220 - val_accuracy: 0.8660\n",
            "Epoch 19/20\n",
            "1688/1688 [==============================] - 6s 4ms/step - loss: 0.3310 - accuracy: 0.8836 - val_loss: 0.4438 - val_accuracy: 0.8620\n",
            "Epoch 20/20\n",
            "1688/1688 [==============================] - 6s 4ms/step - loss: 0.3232 - accuracy: 0.8848 - val_loss: 0.4488 - val_accuracy: 0.8645\n"
          ]
        }
      ]
    },
    {
      "cell_type": "code",
      "source": [
        "history3= model3.fit(train_images, train_labels, validation_split=0.1, epochs=20)"
      ],
      "metadata": {
        "colab": {
          "base_uri": "https://localhost:8080/"
        },
        "id": "lPGGrlD2LV21",
        "outputId": "de38b6f8-53aa-4577-bc94-cbcb38917105"
      },
      "execution_count": 32,
      "outputs": [
        {
          "output_type": "stream",
          "name": "stdout",
          "text": [
            "Epoch 1/20\n",
            "1688/1688 [==============================] - 7s 4ms/step - loss: 0.5267 - accuracy: 0.8135 - val_loss: 0.3903 - val_accuracy: 0.8613\n",
            "Epoch 2/20\n",
            "1688/1688 [==============================] - 6s 4ms/step - loss: 0.3800 - accuracy: 0.8622 - val_loss: 0.3700 - val_accuracy: 0.8663\n",
            "Epoch 3/20\n",
            "1688/1688 [==============================] - 6s 4ms/step - loss: 0.3390 - accuracy: 0.8759 - val_loss: 0.3736 - val_accuracy: 0.8603\n",
            "Epoch 4/20\n",
            "1688/1688 [==============================] - 6s 3ms/step - loss: 0.3135 - accuracy: 0.8844 - val_loss: 0.3545 - val_accuracy: 0.8748\n",
            "Epoch 5/20\n",
            "1688/1688 [==============================] - 6s 4ms/step - loss: 0.2994 - accuracy: 0.8893 - val_loss: 0.3554 - val_accuracy: 0.8730\n",
            "Epoch 6/20\n",
            "1688/1688 [==============================] - 6s 4ms/step - loss: 0.2824 - accuracy: 0.8964 - val_loss: 0.3338 - val_accuracy: 0.8832\n",
            "Epoch 7/20\n",
            "1688/1688 [==============================] - 6s 4ms/step - loss: 0.2716 - accuracy: 0.8992 - val_loss: 0.3346 - val_accuracy: 0.8800\n",
            "Epoch 8/20\n",
            "1688/1688 [==============================] - 11s 7ms/step - loss: 0.2607 - accuracy: 0.9020 - val_loss: 0.3277 - val_accuracy: 0.8815\n",
            "Epoch 9/20\n",
            "1688/1688 [==============================] - 6s 4ms/step - loss: 0.2504 - accuracy: 0.9043 - val_loss: 0.3322 - val_accuracy: 0.8812\n",
            "Epoch 10/20\n",
            "1688/1688 [==============================] - 6s 4ms/step - loss: 0.2398 - accuracy: 0.9111 - val_loss: 0.3330 - val_accuracy: 0.8855\n",
            "Epoch 11/20\n",
            "1688/1688 [==============================] - 6s 4ms/step - loss: 0.2341 - accuracy: 0.9118 - val_loss: 0.3455 - val_accuracy: 0.8830\n",
            "Epoch 12/20\n",
            "1688/1688 [==============================] - 6s 4ms/step - loss: 0.2272 - accuracy: 0.9147 - val_loss: 0.3318 - val_accuracy: 0.8900\n",
            "Epoch 13/20\n",
            "1688/1688 [==============================] - 6s 4ms/step - loss: 0.2189 - accuracy: 0.9178 - val_loss: 0.3322 - val_accuracy: 0.8865\n",
            "Epoch 14/20\n",
            "1688/1688 [==============================] - 6s 4ms/step - loss: 0.2139 - accuracy: 0.9184 - val_loss: 0.3385 - val_accuracy: 0.8850\n",
            "Epoch 15/20\n",
            "1688/1688 [==============================] - 6s 4ms/step - loss: 0.2058 - accuracy: 0.9225 - val_loss: 0.3453 - val_accuracy: 0.8882\n",
            "Epoch 16/20\n",
            "1688/1688 [==============================] - 6s 4ms/step - loss: 0.1996 - accuracy: 0.9249 - val_loss: 0.3511 - val_accuracy: 0.8820\n",
            "Epoch 17/20\n",
            "1688/1688 [==============================] - 6s 4ms/step - loss: 0.1960 - accuracy: 0.9258 - val_loss: 0.3464 - val_accuracy: 0.8882\n",
            "Epoch 18/20\n",
            "1688/1688 [==============================] - 6s 3ms/step - loss: 0.1905 - accuracy: 0.9270 - val_loss: 0.3503 - val_accuracy: 0.8882\n",
            "Epoch 19/20\n",
            "1688/1688 [==============================] - 6s 4ms/step - loss: 0.1855 - accuracy: 0.9297 - val_loss: 0.3533 - val_accuracy: 0.8865\n",
            "Epoch 20/20\n",
            "1688/1688 [==============================] - 6s 4ms/step - loss: 0.1812 - accuracy: 0.9319 - val_loss: 0.3531 - val_accuracy: 0.8923\n"
          ]
        }
      ]
    },
    {
      "cell_type": "code",
      "source": [
        "history4 = model4.fit(train_images, train_labels, validation_split=0.1, epochs=20)"
      ],
      "metadata": {
        "colab": {
          "base_uri": "https://localhost:8080/"
        },
        "id": "QcXhpCaXLWQd",
        "outputId": "9a3039a0-1a2a-4451-f466-3bfcab54dba4"
      },
      "execution_count": 33,
      "outputs": [
        {
          "output_type": "stream",
          "name": "stdout",
          "text": [
            "Epoch 1/20\n",
            "1688/1688 [==============================] - 9s 5ms/step - loss: 0.5837 - accuracy: 0.8162 - val_loss: 0.4954 - val_accuracy: 0.8365\n",
            "Epoch 2/20\n",
            "1688/1688 [==============================] - 8s 5ms/step - loss: 0.4496 - accuracy: 0.8599 - val_loss: 0.4507 - val_accuracy: 0.8553\n",
            "Epoch 3/20\n",
            "1688/1688 [==============================] - 8s 5ms/step - loss: 0.4184 - accuracy: 0.8685 - val_loss: 0.4407 - val_accuracy: 0.8605\n",
            "Epoch 4/20\n",
            "1688/1688 [==============================] - 8s 5ms/step - loss: 0.3988 - accuracy: 0.8766 - val_loss: 0.4028 - val_accuracy: 0.8720\n",
            "Epoch 5/20\n",
            "1688/1688 [==============================] - 8s 5ms/step - loss: 0.3842 - accuracy: 0.8827 - val_loss: 0.4037 - val_accuracy: 0.8798\n",
            "Epoch 6/20\n",
            "1688/1688 [==============================] - 8s 5ms/step - loss: 0.3755 - accuracy: 0.8851 - val_loss: 0.4046 - val_accuracy: 0.8780\n",
            "Epoch 7/20\n",
            "1688/1688 [==============================] - 9s 5ms/step - loss: 0.3652 - accuracy: 0.8901 - val_loss: 0.4042 - val_accuracy: 0.8798\n",
            "Epoch 8/20\n",
            "1688/1688 [==============================] - 8s 5ms/step - loss: 0.3608 - accuracy: 0.8898 - val_loss: 0.3946 - val_accuracy: 0.8792\n",
            "Epoch 9/20\n",
            "1688/1688 [==============================] - 8s 5ms/step - loss: 0.3520 - accuracy: 0.8944 - val_loss: 0.3999 - val_accuracy: 0.8797\n",
            "Epoch 10/20\n",
            "1688/1688 [==============================] - 8s 5ms/step - loss: 0.3469 - accuracy: 0.8941 - val_loss: 0.3963 - val_accuracy: 0.8760\n",
            "Epoch 11/20\n",
            "1688/1688 [==============================] - 8s 5ms/step - loss: 0.3407 - accuracy: 0.8963 - val_loss: 0.4065 - val_accuracy: 0.8802\n",
            "Epoch 12/20\n",
            "1688/1688 [==============================] - 8s 5ms/step - loss: 0.3372 - accuracy: 0.8982 - val_loss: 0.4414 - val_accuracy: 0.8713\n",
            "Epoch 13/20\n",
            "1688/1688 [==============================] - 8s 5ms/step - loss: 0.3345 - accuracy: 0.8994 - val_loss: 0.3936 - val_accuracy: 0.8817\n",
            "Epoch 14/20\n",
            "1688/1688 [==============================] - 8s 5ms/step - loss: 0.3313 - accuracy: 0.9008 - val_loss: 0.3992 - val_accuracy: 0.8827\n",
            "Epoch 15/20\n",
            "1688/1688 [==============================] - 8s 5ms/step - loss: 0.3279 - accuracy: 0.9013 - val_loss: 0.4236 - val_accuracy: 0.8752\n",
            "Epoch 16/20\n",
            "1688/1688 [==============================] - 8s 5ms/step - loss: 0.3258 - accuracy: 0.9017 - val_loss: 0.3936 - val_accuracy: 0.8815\n",
            "Epoch 17/20\n",
            "1688/1688 [==============================] - 9s 5ms/step - loss: 0.3236 - accuracy: 0.9043 - val_loss: 0.3952 - val_accuracy: 0.8790\n",
            "Epoch 18/20\n",
            "1688/1688 [==============================] - 9s 5ms/step - loss: 0.3224 - accuracy: 0.9048 - val_loss: 0.4063 - val_accuracy: 0.8780\n",
            "Epoch 19/20\n",
            "1688/1688 [==============================] - 8s 5ms/step - loss: 0.3190 - accuracy: 0.9046 - val_loss: 0.4159 - val_accuracy: 0.8815\n",
            "Epoch 20/20\n",
            "1688/1688 [==============================] - 8s 5ms/step - loss: 0.3158 - accuracy: 0.9068 - val_loss: 0.3947 - val_accuracy: 0.8868\n"
          ]
        }
      ]
    },
    {
      "cell_type": "code",
      "source": [
        "history5 = model5.fit(train_images, train_labels, validation_split=0.1, epochs=20)"
      ],
      "metadata": {
        "colab": {
          "base_uri": "https://localhost:8080/"
        },
        "id": "b42b4eXILW0f",
        "outputId": "2fcbd50a-a683-42b5-b37d-72bf0b964637"
      },
      "execution_count": 34,
      "outputs": [
        {
          "output_type": "stream",
          "name": "stdout",
          "text": [
            "Epoch 1/20\n",
            "1688/1688 [==============================] - 8s 4ms/step - loss: 0.5603 - accuracy: 0.8143 - val_loss: 0.4639 - val_accuracy: 0.8388\n",
            "Epoch 2/20\n",
            "1688/1688 [==============================] - 7s 4ms/step - loss: 0.4249 - accuracy: 0.8606 - val_loss: 0.4197 - val_accuracy: 0.8655\n",
            "Epoch 3/20\n",
            "1688/1688 [==============================] - 7s 4ms/step - loss: 0.3888 - accuracy: 0.8732 - val_loss: 0.4324 - val_accuracy: 0.8620\n",
            "Epoch 4/20\n",
            "1688/1688 [==============================] - 8s 4ms/step - loss: 0.3658 - accuracy: 0.8804 - val_loss: 0.3837 - val_accuracy: 0.8793\n",
            "Epoch 5/20\n",
            "1688/1688 [==============================] - 7s 4ms/step - loss: 0.3519 - accuracy: 0.8869 - val_loss: 0.3816 - val_accuracy: 0.8777\n",
            "Epoch 6/20\n",
            "1688/1688 [==============================] - 9s 5ms/step - loss: 0.3416 - accuracy: 0.8910 - val_loss: 0.3779 - val_accuracy: 0.8797\n",
            "Epoch 7/20\n",
            "1688/1688 [==============================] - 7s 4ms/step - loss: 0.3299 - accuracy: 0.8953 - val_loss: 0.3798 - val_accuracy: 0.8733\n",
            "Epoch 8/20\n",
            "1688/1688 [==============================] - 7s 4ms/step - loss: 0.3227 - accuracy: 0.8982 - val_loss: 0.3611 - val_accuracy: 0.8832\n",
            "Epoch 9/20\n",
            "1688/1688 [==============================] - 7s 4ms/step - loss: 0.3141 - accuracy: 0.9011 - val_loss: 0.3707 - val_accuracy: 0.8858\n",
            "Epoch 10/20\n",
            "1688/1688 [==============================] - 7s 4ms/step - loss: 0.3077 - accuracy: 0.9027 - val_loss: 0.3688 - val_accuracy: 0.8852\n",
            "Epoch 11/20\n",
            "1688/1688 [==============================] - 7s 4ms/step - loss: 0.3011 - accuracy: 0.9060 - val_loss: 0.3788 - val_accuracy: 0.8810\n",
            "Epoch 12/20\n",
            "1688/1688 [==============================] - 7s 4ms/step - loss: 0.2980 - accuracy: 0.9075 - val_loss: 0.3716 - val_accuracy: 0.8845\n",
            "Epoch 13/20\n",
            "1688/1688 [==============================] - 7s 4ms/step - loss: 0.2928 - accuracy: 0.9104 - val_loss: 0.3729 - val_accuracy: 0.8847\n",
            "Epoch 14/20\n",
            "1688/1688 [==============================] - 8s 5ms/step - loss: 0.2869 - accuracy: 0.9113 - val_loss: 0.4004 - val_accuracy: 0.8820\n",
            "Epoch 15/20\n",
            "1688/1688 [==============================] - 7s 4ms/step - loss: 0.2828 - accuracy: 0.9131 - val_loss: 0.3809 - val_accuracy: 0.8872\n",
            "Epoch 16/20\n",
            "1688/1688 [==============================] - 7s 4ms/step - loss: 0.2789 - accuracy: 0.9151 - val_loss: 0.3897 - val_accuracy: 0.8903\n",
            "Epoch 17/20\n",
            "1688/1688 [==============================] - 7s 4ms/step - loss: 0.2732 - accuracy: 0.9177 - val_loss: 0.4111 - val_accuracy: 0.8790\n",
            "Epoch 18/20\n",
            "1688/1688 [==============================] - 7s 4ms/step - loss: 0.2713 - accuracy: 0.9186 - val_loss: 0.3760 - val_accuracy: 0.8883\n",
            "Epoch 19/20\n",
            "1688/1688 [==============================] - 7s 4ms/step - loss: 0.2697 - accuracy: 0.9197 - val_loss: 0.3870 - val_accuracy: 0.8878\n",
            "Epoch 20/20\n",
            "1688/1688 [==============================] - 7s 4ms/step - loss: 0.2638 - accuracy: 0.9201 - val_loss: 0.3953 - val_accuracy: 0.8870\n"
          ]
        }
      ]
    },
    {
      "cell_type": "code",
      "source": [
        "history6 = model6.fit(train_images, train_labels, validation_split=0.1, epochs=20)"
      ],
      "metadata": {
        "colab": {
          "base_uri": "https://localhost:8080/"
        },
        "id": "c1BQzZ7fLXJy",
        "outputId": "8810a99c-1635-4695-e3db-d3cb1224159f"
      },
      "execution_count": 35,
      "outputs": [
        {
          "output_type": "stream",
          "name": "stdout",
          "text": [
            "Epoch 1/20\n",
            "1688/1688 [==============================] - 7s 4ms/step - loss: 0.5892 - accuracy: 0.7866 - val_loss: 0.4115 - val_accuracy: 0.8440\n",
            "Epoch 2/20\n",
            "1688/1688 [==============================] - 6s 4ms/step - loss: 0.4344 - accuracy: 0.8410 - val_loss: 0.3752 - val_accuracy: 0.8632\n",
            "Epoch 3/20\n",
            "1688/1688 [==============================] - 6s 3ms/step - loss: 0.3997 - accuracy: 0.8532 - val_loss: 0.3587 - val_accuracy: 0.8678\n",
            "Epoch 4/20\n",
            "1688/1688 [==============================] - 6s 4ms/step - loss: 0.3779 - accuracy: 0.8611 - val_loss: 0.3525 - val_accuracy: 0.8710\n",
            "Epoch 5/20\n",
            "1688/1688 [==============================] - 6s 4ms/step - loss: 0.3618 - accuracy: 0.8669 - val_loss: 0.3330 - val_accuracy: 0.8765\n",
            "Epoch 6/20\n",
            "1688/1688 [==============================] - 6s 4ms/step - loss: 0.3509 - accuracy: 0.8719 - val_loss: 0.3304 - val_accuracy: 0.8803\n",
            "Epoch 7/20\n",
            "1688/1688 [==============================] - 6s 4ms/step - loss: 0.3386 - accuracy: 0.8746 - val_loss: 0.3464 - val_accuracy: 0.8728\n",
            "Epoch 8/20\n",
            "1688/1688 [==============================] - 7s 4ms/step - loss: 0.3313 - accuracy: 0.8780 - val_loss: 0.3465 - val_accuracy: 0.8742\n",
            "Epoch 9/20\n",
            "1688/1688 [==============================] - 6s 4ms/step - loss: 0.3204 - accuracy: 0.8805 - val_loss: 0.3206 - val_accuracy: 0.8832\n",
            "Epoch 10/20\n",
            "1688/1688 [==============================] - 6s 4ms/step - loss: 0.3172 - accuracy: 0.8819 - val_loss: 0.3188 - val_accuracy: 0.8845\n",
            "Epoch 11/20\n",
            "1688/1688 [==============================] - 6s 4ms/step - loss: 0.3096 - accuracy: 0.8854 - val_loss: 0.3335 - val_accuracy: 0.8763\n",
            "Epoch 12/20\n",
            "1688/1688 [==============================] - 6s 3ms/step - loss: 0.3040 - accuracy: 0.8866 - val_loss: 0.3131 - val_accuracy: 0.8882\n",
            "Epoch 13/20\n",
            "1688/1688 [==============================] - 6s 4ms/step - loss: 0.3023 - accuracy: 0.8872 - val_loss: 0.3422 - val_accuracy: 0.8822\n",
            "Epoch 14/20\n",
            "1688/1688 [==============================] - 6s 4ms/step - loss: 0.2965 - accuracy: 0.8894 - val_loss: 0.3302 - val_accuracy: 0.8845\n",
            "Epoch 15/20\n",
            "1688/1688 [==============================] - 6s 4ms/step - loss: 0.2928 - accuracy: 0.8903 - val_loss: 0.3201 - val_accuracy: 0.8843\n",
            "Epoch 16/20\n",
            "1688/1688 [==============================] - 6s 4ms/step - loss: 0.2866 - accuracy: 0.8934 - val_loss: 0.3226 - val_accuracy: 0.8865\n",
            "Epoch 17/20\n",
            "1688/1688 [==============================] - 6s 3ms/step - loss: 0.2828 - accuracy: 0.8936 - val_loss: 0.3156 - val_accuracy: 0.8873\n",
            "Epoch 18/20\n",
            "1688/1688 [==============================] - 6s 4ms/step - loss: 0.2795 - accuracy: 0.8965 - val_loss: 0.3205 - val_accuracy: 0.8867\n",
            "Epoch 19/20\n",
            "1688/1688 [==============================] - 6s 4ms/step - loss: 0.2747 - accuracy: 0.8982 - val_loss: 0.3122 - val_accuracy: 0.8905\n",
            "Epoch 20/20\n",
            "1688/1688 [==============================] - 6s 4ms/step - loss: 0.2743 - accuracy: 0.8970 - val_loss: 0.3328 - val_accuracy: 0.8863\n"
          ]
        }
      ]
    },
    {
      "cell_type": "code",
      "source": [
        "history7 = model7.fit(train_images, train_labels, validation_split=0.1, epochs=20)"
      ],
      "metadata": {
        "colab": {
          "base_uri": "https://localhost:8080/"
        },
        "id": "BmrIONvkLXeu",
        "outputId": "16ab7567-8bab-491d-d90e-ad5310dfd768"
      },
      "execution_count": 36,
      "outputs": [
        {
          "output_type": "stream",
          "name": "stdout",
          "text": [
            "Epoch 1/20\n",
            "1688/1688 [==============================] - 10s 5ms/step - loss: 0.6213 - accuracy: 0.8016 - val_loss: 0.4823 - val_accuracy: 0.8395\n",
            "Epoch 2/20\n",
            "1688/1688 [==============================] - 9s 5ms/step - loss: 0.4781 - accuracy: 0.8500 - val_loss: 0.4451 - val_accuracy: 0.8622\n",
            "Epoch 3/20\n",
            "1688/1688 [==============================] - 9s 5ms/step - loss: 0.4461 - accuracy: 0.8626 - val_loss: 0.4260 - val_accuracy: 0.8703\n",
            "Epoch 4/20\n",
            "1688/1688 [==============================] - 9s 6ms/step - loss: 0.4179 - accuracy: 0.8721 - val_loss: 0.4349 - val_accuracy: 0.8700\n",
            "Epoch 5/20\n",
            "1688/1688 [==============================] - 9s 5ms/step - loss: 0.4081 - accuracy: 0.8742 - val_loss: 0.4138 - val_accuracy: 0.8735\n",
            "Epoch 6/20\n",
            "1688/1688 [==============================] - 9s 5ms/step - loss: 0.3978 - accuracy: 0.8782 - val_loss: 0.4138 - val_accuracy: 0.8683\n",
            "Epoch 7/20\n",
            "1688/1688 [==============================] - 9s 6ms/step - loss: 0.3864 - accuracy: 0.8827 - val_loss: 0.4127 - val_accuracy: 0.8730\n",
            "Epoch 8/20\n",
            "1688/1688 [==============================] - 11s 6ms/step - loss: 0.3798 - accuracy: 0.8842 - val_loss: 0.3945 - val_accuracy: 0.8793\n",
            "Epoch 9/20\n",
            "1688/1688 [==============================] - 9s 5ms/step - loss: 0.3723 - accuracy: 0.8883 - val_loss: 0.3974 - val_accuracy: 0.8787\n",
            "Epoch 10/20\n",
            "1688/1688 [==============================] - 9s 5ms/step - loss: 0.3674 - accuracy: 0.8886 - val_loss: 0.4067 - val_accuracy: 0.8742\n",
            "Epoch 11/20\n",
            "1688/1688 [==============================] - 9s 5ms/step - loss: 0.3604 - accuracy: 0.8903 - val_loss: 0.4353 - val_accuracy: 0.8638\n",
            "Epoch 12/20\n",
            "1688/1688 [==============================] - 9s 5ms/step - loss: 0.3590 - accuracy: 0.8912 - val_loss: 0.4082 - val_accuracy: 0.8822\n",
            "Epoch 13/20\n",
            "1688/1688 [==============================] - 9s 5ms/step - loss: 0.3571 - accuracy: 0.8943 - val_loss: 0.4017 - val_accuracy: 0.8790\n",
            "Epoch 14/20\n",
            "1688/1688 [==============================] - 9s 5ms/step - loss: 0.3543 - accuracy: 0.8943 - val_loss: 0.3866 - val_accuracy: 0.8820\n",
            "Epoch 15/20\n",
            "1688/1688 [==============================] - 9s 5ms/step - loss: 0.3516 - accuracy: 0.8955 - val_loss: 0.4001 - val_accuracy: 0.8823\n",
            "Epoch 16/20\n",
            "1688/1688 [==============================] - 9s 5ms/step - loss: 0.3462 - accuracy: 0.8971 - val_loss: 0.3792 - val_accuracy: 0.8842\n",
            "Epoch 17/20\n",
            "1688/1688 [==============================] - 9s 5ms/step - loss: 0.3423 - accuracy: 0.8973 - val_loss: 0.3893 - val_accuracy: 0.8828\n",
            "Epoch 18/20\n",
            "1688/1688 [==============================] - 9s 5ms/step - loss: 0.3404 - accuracy: 0.8987 - val_loss: 0.3929 - val_accuracy: 0.8778\n",
            "Epoch 19/20\n",
            "1688/1688 [==============================] - 9s 5ms/step - loss: 0.3381 - accuracy: 0.8983 - val_loss: 0.3922 - val_accuracy: 0.8852\n",
            "Epoch 20/20\n",
            "1688/1688 [==============================] - 9s 5ms/step - loss: 0.3400 - accuracy: 0.8987 - val_loss: 0.3918 - val_accuracy: 0.8792\n"
          ]
        }
      ]
    },
    {
      "cell_type": "code",
      "source": [
        "history_dict = history.history\n",
        "\n",
        "print (history_dict.keys())"
      ],
      "metadata": {
        "colab": {
          "base_uri": "https://localhost:8080/"
        },
        "id": "9u5sAn14Rv58",
        "outputId": "4bf2a3ed-7021-4b7b-e656-829e83521c2f"
      },
      "execution_count": 25,
      "outputs": [
        {
          "output_type": "stream",
          "name": "stdout",
          "text": [
            "dict_keys(['loss', 'accuracy', 'val_loss', 'val_accuracy'])\n"
          ]
        }
      ]
    },
    {
      "cell_type": "code",
      "source": [
        "history_dict1 = history1.history\n",
        "\n",
        "print (history_dict1.keys())"
      ],
      "metadata": {
        "colab": {
          "base_uri": "https://localhost:8080/"
        },
        "id": "X5yxi_nfLnNX",
        "outputId": "9ca06574-6ccb-42e7-8037-2aeaaf5059b5"
      },
      "execution_count": 28,
      "outputs": [
        {
          "output_type": "stream",
          "name": "stdout",
          "text": [
            "dict_keys(['loss', 'accuracy', 'val_loss', 'val_accuracy'])\n"
          ]
        }
      ]
    },
    {
      "cell_type": "code",
      "source": [
        "history_dict2 = history2.history\n",
        "\n",
        "print (history_dict1.keys())"
      ],
      "metadata": {
        "colab": {
          "base_uri": "https://localhost:8080/"
        },
        "id": "mvaIBXk0Lnrf",
        "outputId": "7416d2e1-87d5-41cd-eb30-46e14bc2edc0"
      },
      "execution_count": 31,
      "outputs": [
        {
          "output_type": "stream",
          "name": "stdout",
          "text": [
            "dict_keys(['loss', 'accuracy', 'val_loss', 'val_accuracy'])\n"
          ]
        }
      ]
    },
    {
      "cell_type": "code",
      "source": [
        "history_dict3 = history3.history\n",
        "\n",
        "print (history_dict1.keys())"
      ],
      "metadata": {
        "colab": {
          "base_uri": "https://localhost:8080/"
        },
        "id": "Nr3spERXLn_F",
        "outputId": "914b3620-167b-4fd5-e29c-29aedb48254d"
      },
      "execution_count": 37,
      "outputs": [
        {
          "output_type": "stream",
          "name": "stdout",
          "text": [
            "dict_keys(['loss', 'accuracy', 'val_loss', 'val_accuracy'])\n"
          ]
        }
      ]
    },
    {
      "cell_type": "code",
      "source": [
        "history_dict4 = history4.history\n",
        "\n",
        "print (history_dict1.keys())"
      ],
      "metadata": {
        "colab": {
          "base_uri": "https://localhost:8080/"
        },
        "id": "MexAfHZ7LoX4",
        "outputId": "92a6a50a-6a75-4d36-8541-619eb12ed110"
      },
      "execution_count": 38,
      "outputs": [
        {
          "output_type": "stream",
          "name": "stdout",
          "text": [
            "dict_keys(['loss', 'accuracy', 'val_loss', 'val_accuracy'])\n"
          ]
        }
      ]
    },
    {
      "cell_type": "code",
      "source": [
        "history_dict5 = history5.history\n",
        "\n",
        "print (history_dict1.keys())"
      ],
      "metadata": {
        "colab": {
          "base_uri": "https://localhost:8080/"
        },
        "id": "sEqDo8-BLorG",
        "outputId": "1c902be0-7955-410c-85b0-585732963d97"
      },
      "execution_count": 39,
      "outputs": [
        {
          "output_type": "stream",
          "name": "stdout",
          "text": [
            "dict_keys(['loss', 'accuracy', 'val_loss', 'val_accuracy'])\n"
          ]
        }
      ]
    },
    {
      "cell_type": "code",
      "source": [
        "history_dict6 = history6.history\n",
        "\n",
        "print (history_dict1.keys())"
      ],
      "metadata": {
        "colab": {
          "base_uri": "https://localhost:8080/"
        },
        "id": "VbJQStNsLo_d",
        "outputId": "0c78fbea-c279-494f-d755-b2b19fe94ba7"
      },
      "execution_count": 40,
      "outputs": [
        {
          "output_type": "stream",
          "name": "stdout",
          "text": [
            "dict_keys(['loss', 'accuracy', 'val_loss', 'val_accuracy'])\n"
          ]
        }
      ]
    },
    {
      "cell_type": "code",
      "source": [
        "history_dict7 = history7.history\n",
        "\n",
        "print (history_dict1.keys())"
      ],
      "metadata": {
        "colab": {
          "base_uri": "https://localhost:8080/"
        },
        "id": "_P5DgQ-rLpTj",
        "outputId": "16aee00f-a34b-4d56-f86e-2fc4e04b02b6"
      },
      "execution_count": 41,
      "outputs": [
        {
          "output_type": "stream",
          "name": "stdout",
          "text": [
            "dict_keys(['loss', 'accuracy', 'val_loss', 'val_accuracy'])\n"
          ]
        }
      ]
    },
    {
      "cell_type": "code",
      "source": [
        "acc = history_dict['accuracy']\n",
        "val_acc = history_dict['val_accuracy']\n",
        "loss = history_dict['loss']\n",
        "val_loss = history_dict['val_loss']\n",
        "\n",
        "epochs = range(1, len(acc) + 1)\n",
        "\n",
        "# \"bo\" is for \"blue dot\"\n",
        "plt.plot(epochs, loss, 'bo', label='Training loss')\n",
        "# b is for \"solid blue line\"\n",
        "plt.plot(epochs, val_loss, 'b', label='Validation loss')\n",
        "plt.title('Training and validation loss')\n",
        "plt.xlabel('Epochs')\n",
        "plt.ylabel('Loss')\n",
        "plt.legend()\n",
        "\n",
        "plt.show()"
      ],
      "metadata": {
        "colab": {
          "base_uri": "https://localhost:8080/",
          "height": 295
        },
        "id": "U1dhGzynC2BK",
        "outputId": "20abbaa3-a907-493c-8242-3f1654c626c0"
      },
      "execution_count": null,
      "outputs": [
        {
          "output_type": "display_data",
          "data": {
            "text/plain": [
              "<Figure size 432x288 with 1 Axes>"
            ],
            "image/png": "[encoded data removed]"
          },
          "metadata": {
            "needs_background": "light"
          }
        }
      ]
    },
    {
      "cell_type": "code",
      "source": [
        "acc1 = history_dict1['accuracy']\n",
        "val_acc1 = history_dict1['val_accuracy']\n",
        "loss1 = history_dict1['loss']\n",
        "val_loss1 = history_dict1['val_loss']\n",
        "\n",
        "epochs = range(1, len(acc1) + 1)\n",
        "\n",
        "# \"bo\" is for \"blue dot\"\n",
        "plt.plot(epochs, loss1, 'bo', label='Training loss')\n",
        "# b is for \"solid blue line\"\n",
        "plt.plot(epochs, val_loss1, 'b', label='Validation loss')\n",
        "plt.title('Training and validation loss')\n",
        "plt.xlabel('Epochs')\n",
        "plt.ylabel('Loss')\n",
        "plt.legend()\n",
        "\n",
        "plt.show()"
      ],
      "metadata": {
        "colab": {
          "base_uri": "https://localhost:8080/",
          "height": 295
        },
        "id": "g67Dl5blT3T7",
        "outputId": "12fc95a6-a620-4bfb-a1a3-9d0028140fd0"
      },
      "execution_count": 43,
      "outputs": [
        {
          "output_type": "display_data",
          "data": {
            "text/plain": [
              "<Figure size 432x288 with 1 Axes>"
            ],
            "image/png": "[encoded data removed]"
          },
          "metadata": {
            "needs_background": "light"
          }
        }
      ]
    },
    {
      "cell_type": "code",
      "source": [
        "acc2 = history_dict2['accuracy']\n",
        "val_acc2 = history_dict2['val_accuracy']\n",
        "loss2 = history_dict2['loss']\n",
        "val_loss2 = history_dict2['val_loss']\n",
        "\n",
        "epochs = range(1, len(acc2) + 1)\n",
        "\n",
        "# \"bo\" is for \"blue dot\"\n",
        "plt.plot(epochs, loss2, 'bo', label='Training loss')\n",
        "# b is for \"solid blue line\"\n",
        "plt.plot(epochs, val_loss2, 'b', label='Validation loss')\n",
        "plt.title('Training and validation loss')\n",
        "plt.xlabel('Epochs')\n",
        "plt.ylabel('Loss')\n",
        "plt.legend()\n",
        "\n",
        "plt.show()"
      ],
      "metadata": {
        "colab": {
          "base_uri": "https://localhost:8080/",
          "height": 295
        },
        "id": "NaOJFz-_T4VU",
        "outputId": "468afeeb-fc18-4620-b2b3-242a451750ec"
      },
      "execution_count": 45,
      "outputs": [
        {
          "output_type": "display_data",
          "data": {
            "text/plain": [
              "<Figure size 432x288 with 1 Axes>"
            ],
            "image/png": "[encoded data removed]"
          },
          "metadata": {
            "needs_background": "light"
          }
        }
      ]
    },
    {
      "cell_type": "code",
      "source": [
        "acc3 = history_dict3['accuracy']\n",
        "val_acc3 = history_dict3['val_accuracy']\n",
        "loss3 = history_dict3['loss']\n",
        "val_loss3 = history_dict3['val_loss']\n",
        "\n",
        "epochs = range(1, len(acc3) + 1)\n",
        "\n",
        "# \"bo\" is for \"blue dot\"\n",
        "plt.plot(epochs, loss3, 'bo', label='Training loss')\n",
        "# b is for \"solid blue line\"\n",
        "plt.plot(epochs, val_loss3, 'b', label='Validation loss')\n",
        "plt.title('Training and validation loss')\n",
        "plt.xlabel('Epochs')\n",
        "plt.ylabel('Loss')\n",
        "plt.legend()\n",
        "\n",
        "plt.show()"
      ],
      "metadata": {
        "colab": {
          "base_uri": "https://localhost:8080/",
          "height": 295
        },
        "id": "rxlVIwd-T4oU",
        "outputId": "6310a56d-f1cf-4663-ba67-ceb3de45f0e3"
      },
      "execution_count": 46,
      "outputs": [
        {
          "output_type": "display_data",
          "data": {
            "text/plain": [
              "<Figure size 432x288 with 1 Axes>"
            ],
            "image/png": "[encoded data removed]"
          },
          "metadata": {
            "needs_background": "light"
          }
        }
      ]
    },
    {
      "cell_type": "code",
      "source": [
        "acc4 = history_dict4['accuracy']\n",
        "val_acc4 = history_dict4['val_accuracy']\n",
        "loss4 = history_dict4['loss']\n",
        "val_loss4 = history_dict4['val_loss']\n",
        "\n",
        "epochs = range(1, len(acc4) + 1)\n",
        "\n",
        "# \"bo\" is for \"blue dot\"\n",
        "plt.plot(epochs, loss4, 'bo', label='Training loss')\n",
        "# b is for \"solid blue line\"\n",
        "plt.plot(epochs, val_loss4, 'b', label='Validation loss')\n",
        "plt.title('Training and validation loss')\n",
        "plt.xlabel('Epochs')\n",
        "plt.ylabel('Loss')\n",
        "plt.legend()\n",
        "\n",
        "plt.show()"
      ],
      "metadata": {
        "colab": {
          "base_uri": "https://localhost:8080/",
          "height": 295
        },
        "id": "RrMqTm20T47e",
        "outputId": "12ddb675-c717-46f6-efed-563834a46943"
      },
      "execution_count": 47,
      "outputs": [
        {
          "output_type": "display_data",
          "data": {
            "text/plain": [
              "<Figure size 432x288 with 1 Axes>"
            ],
            "image/png": "[encoded data removed]"
          },
          "metadata": {
            "needs_background": "light"
          }
        }
      ]
    },
    {
      "cell_type": "code",
      "source": [
        "acc5 = history_dict['accuracy']\n",
        "val_acc5 = history_dict5['val_accuracy']\n",
        "loss5 = history_dict5['loss']\n",
        "val_loss5 = history_dict5['val_loss']\n",
        "\n",
        "epochs = range(1, len(acc5) + 1)\n",
        "\n",
        "# \"bo\" is for \"blue dot\"\n",
        "plt.plot(epochs, loss5, 'bo', label='Training loss')\n",
        "# b is for \"solid blue line\"\n",
        "plt.plot(epochs, val_loss5, 'b', label='Validation loss')\n",
        "plt.title('Training and validation loss')\n",
        "plt.xlabel('Epochs')\n",
        "plt.ylabel('Loss')\n",
        "plt.legend()\n",
        "\n",
        "plt.show()"
      ],
      "metadata": {
        "colab": {
          "base_uri": "https://localhost:8080/",
          "height": 295
        },
        "id": "isSMzRxcT5NE",
        "outputId": "e5d05f88-78e1-404e-f3b9-f6cb697fcedb"
      },
      "execution_count": 49,
      "outputs": [
        {
          "output_type": "display_data",
          "data": {
            "text/plain": [
              "<Figure size 432x288 with 1 Axes>"
            ],
            "image/png": "[encoded data removed]"
          },
          "metadata": {
            "needs_background": "light"
          }
        }
      ]
    },
    {
      "cell_type": "code",
      "source": [
        "acc6 = history_dict6['accuracy']\n",
        "val_acc6 = history_dict6['val_accuracy']\n",
        "loss6 = history_dict6['loss']\n",
        "val_loss6 = history_dict6['val_loss']\n",
        "\n",
        "epochs = range(1, len(acc6) + 1)\n",
        "\n",
        "# \"bo\" is for \"blue dot\"\n",
        "plt.plot(epochs, loss6, 'bo', label='Training loss')\n",
        "# b is for \"solid blue line\"\n",
        "plt.plot(epochs, val_loss6, 'b', label='Validation loss')\n",
        "plt.title('Training and validation loss')\n",
        "plt.xlabel('Epochs')\n",
        "plt.ylabel('Loss')\n",
        "plt.legend()\n",
        "\n",
        "plt.show()"
      ],
      "metadata": {
        "colab": {
          "base_uri": "https://localhost:8080/",
          "height": 295
        },
        "id": "v65o90PWT5dD",
        "outputId": "2dcbf459-3cc8-4001-a46e-505abb4f9975"
      },
      "execution_count": 50,
      "outputs": [
        {
          "output_type": "display_data",
          "data": {
            "text/plain": [
              "<Figure size 432x288 with 1 Axes>"
            ],
            "image/png": "[encoded data removed]"
          },
          "metadata": {
            "needs_background": "light"
          }
        }
      ]
    },
    {
      "cell_type": "code",
      "source": [
        "acc7 = history_dict7['accuracy']\n",
        "val_acc7 = history_dict7['val_accuracy']\n",
        "loss7 = history_dict7['loss']\n",
        "val_loss7 = history_dict7['val_loss']\n",
        "\n",
        "epochs = range(1, len(acc7) + 1)\n",
        "\n",
        "# \"bo\" is for \"blue dot\"\n",
        "plt.plot(epochs, loss7, 'bo', label='Training loss')\n",
        "# b is for \"solid blue line\"\n",
        "plt.plot(epochs, val_loss7, 'b', label='Validation loss')\n",
        "plt.title('Training and validation loss')\n",
        "plt.xlabel('Epochs')\n",
        "plt.ylabel('Loss')\n",
        "plt.legend()\n",
        "\n",
        "plt.show()"
      ],
      "metadata": {
        "colab": {
          "base_uri": "https://localhost:8080/",
          "height": 295
        },
        "id": "uvXluhTST5up",
        "outputId": "6b354893-6fe4-4dc4-a338-fbfc1d86d781"
      },
      "execution_count": 51,
      "outputs": [
        {
          "output_type": "display_data",
          "data": {
            "text/plain": [
              "<Figure size 432x288 with 1 Axes>"
            ],
            "image/png": "[encoded data removed]"
          },
          "metadata": {
            "needs_background": "light"
          }
        }
      ]
    },
    {
      "cell_type": "code",
      "source": [
        "plt.plot(epochs, acc, 'bo', label='Training acc')\n",
        "plt.plot(epochs, val_acc, 'b', label='Validation acc')\n",
        "plt.title('Training and validation accuracy')\n",
        "plt.xlabel('Epochs')\n",
        "plt.ylabel('Accuracy')\n",
        "plt.legend(loc='lower right')\n",
        "\n",
        "plt.show()"
      ],
      "metadata": {
        "colab": {
          "base_uri": "https://localhost:8080/",
          "height": 295
        },
        "id": "kOUxIYLvD7j6",
        "outputId": "1d68b11d-e5e5-40a1-ffaf-b04b54347e74"
      },
      "execution_count": null,
      "outputs": [
        {
          "output_type": "display_data",
          "data": {
            "text/plain": [
              "<Figure size 432x288 with 1 Axes>"
            ],
            "image/png": "[encoded data removed]"
          },
          "metadata": {
            "needs_background": "light"
          }
        }
      ]
    },
    {
      "cell_type": "code",
      "source": [
        "plt.plot(epochs, acc1, 'bo', label='Training acc')\n",
        "plt.plot(epochs, val_acc1, 'b', label='Validation acc')\n",
        "plt.title('Training and validation accuracy')\n",
        "plt.xlabel('Epochs')\n",
        "plt.ylabel('Accuracy')\n",
        "plt.legend(loc='lower right')\n",
        "\n",
        "plt.show()"
      ],
      "metadata": {
        "colab": {
          "base_uri": "https://localhost:8080/",
          "height": 295
        },
        "id": "F1qkWeoVVGTx",
        "outputId": "259b07d0-c4a2-49bf-bbc6-1407ed1ea289"
      },
      "execution_count": 52,
      "outputs": [
        {
          "output_type": "display_data",
          "data": {
            "text/plain": [
              "<Figure size 432x288 with 1 Axes>"
            ],
            "image/png": "[encoded data removed]"
          },
          "metadata": {
            "needs_background": "light"
          }
        }
      ]
    },
    {
      "cell_type": "code",
      "source": [
        "plt.plot(epochs, acc2, 'bo', label='Training acc')\n",
        "plt.plot(epochs, val_acc2, 'b', label='Validation acc')\n",
        "plt.title('Training and validation accuracy')\n",
        "plt.xlabel('Epochs')\n",
        "plt.ylabel('Accuracy')\n",
        "plt.legend(loc='lower right')\n",
        "\n",
        "plt.show()"
      ],
      "metadata": {
        "colab": {
          "base_uri": "https://localhost:8080/",
          "height": 295
        },
        "id": "W8eEq4V-VG68",
        "outputId": "c39d1383-ee45-4564-8c42-773a9f2c3203"
      },
      "execution_count": 53,
      "outputs": [
        {
          "output_type": "display_data",
          "data": {
            "text/plain": [
              "<Figure size 432x288 with 1 Axes>"
            ],
            "image/png": "[encoded data removed]"
          },
          "metadata": {
            "needs_background": "light"
          }
        }
      ]
    },
    {
      "cell_type": "code",
      "source": [
        "plt.plot(epochs, acc3, 'bo', label='Training acc')\n",
        "plt.plot(epochs, val_acc3, 'b', label='Validation acc')\n",
        "plt.title('Training and validation accuracy')\n",
        "plt.xlabel('Epochs')\n",
        "plt.ylabel('Accuracy')\n",
        "plt.legend(loc='lower right')\n",
        "\n",
        "plt.show()"
      ],
      "metadata": {
        "colab": {
          "base_uri": "https://localhost:8080/",
          "height": 295
        },
        "id": "nEhMQh9wVHMW",
        "outputId": "010ec82b-a2f4-43da-e069-bdfe034a8e71"
      },
      "execution_count": 54,
      "outputs": [
        {
          "output_type": "display_data",
          "data": {
            "text/plain": [
              "<Figure size 432x288 with 1 Axes>"
            ],
            "image/png": "[encoded data removed]"
          },
          "metadata": {
            "needs_background": "light"
          }
        }
      ]
    },
    {
      "cell_type": "code",
      "source": [
        "plt.plot(epochs, acc4, 'bo', label='Training acc')\n",
        "plt.plot(epochs, val_acc4, 'b', label='Validation acc')\n",
        "plt.title('Training and validation accuracy')\n",
        "plt.xlabel('Epochs')\n",
        "plt.ylabel('Accuracy')\n",
        "plt.legend(loc='lower right')\n",
        "\n",
        "plt.show()"
      ],
      "metadata": {
        "colab": {
          "base_uri": "https://localhost:8080/",
          "height": 295
        },
        "id": "Dz5qqnQaVHcV",
        "outputId": "b9cc67d5-b4f0-40b8-976f-5cb9bfec93da"
      },
      "execution_count": 55,
      "outputs": [
        {
          "output_type": "display_data",
          "data": {
            "text/plain": [
              "<Figure size 432x288 with 1 Axes>"
            ],
            "image/png": "[encoded data removed]"
          },
          "metadata": {
            "needs_background": "light"
          }
        }
      ]
    },
    {
      "cell_type": "code",
      "source": [
        "plt.plot(epochs, acc5, 'bo', label='Training acc')\n",
        "plt.plot(epochs, val_acc5, 'b', label='Validation acc')\n",
        "plt.title('Training and validation accuracy')\n",
        "plt.xlabel('Epochs')\n",
        "plt.ylabel('Accuracy')\n",
        "plt.legend(loc='lower right')\n",
        "\n",
        "plt.show()"
      ],
      "metadata": {
        "colab": {
          "base_uri": "https://localhost:8080/",
          "height": 295
        },
        "id": "e2WUL9DaVHqC",
        "outputId": "b2a3478f-2477-407e-baaa-6f2ae2778b9b"
      },
      "execution_count": 56,
      "outputs": [
        {
          "output_type": "display_data",
          "data": {
            "text/plain": [
              "<Figure size 432x288 with 1 Axes>"
            ],
            "image/png": "[encoded data removed]"
          },
          "metadata": {
            "needs_background": "light"
          }
        }
      ]
    },
    {
      "cell_type": "code",
      "source": [
        "plt.plot(epochs, acc6, 'bo', label='Training acc')\n",
        "plt.plot(epochs, val_acc6, 'b', label='Validation acc')\n",
        "plt.title('Training and validation accuracy')\n",
        "plt.xlabel('Epochs')\n",
        "plt.ylabel('Accuracy')\n",
        "plt.legend(loc='lower right')\n",
        "\n",
        "plt.show()"
      ],
      "metadata": {
        "colab": {
          "base_uri": "https://localhost:8080/",
          "height": 295
        },
        "id": "ZkyN5IOXVH3b",
        "outputId": "693a212c-ecd3-4280-c4fd-9456d9f47624"
      },
      "execution_count": 57,
      "outputs": [
        {
          "output_type": "display_data",
          "data": {
            "text/plain": [
              "<Figure size 432x288 with 1 Axes>"
            ],
            "image/png": "[encoded data removed]"
          },
          "metadata": {
            "needs_background": "light"
          }
        }
      ]
    },
    {
      "cell_type": "code",
      "source": [
        "plt.plot(epochs, acc7, 'bo', label='Training acc')\n",
        "plt.plot(epochs, val_acc7, 'b', label='Validation acc')\n",
        "plt.title('Training and validation accuracy')\n",
        "plt.xlabel('Epochs')\n",
        "plt.ylabel('Accuracy')\n",
        "plt.legend(loc='lower right')\n",
        "\n",
        "plt.show()"
      ],
      "metadata": {
        "colab": {
          "base_uri": "https://localhost:8080/",
          "height": 295
        },
        "id": "J4vgA0M8VIEP",
        "outputId": "c6a37df8-766a-49d4-c789-0d81b222439e"
      },
      "execution_count": 58,
      "outputs": [
        {
          "output_type": "display_data",
          "data": {
            "text/plain": [
              "<Figure size 432x288 with 1 Axes>"
            ],
            "image/png": "[encoded data removed]"
          },
          "metadata": {
            "needs_background": "light"
          }
        }
      ]
    },
    {
      "cell_type": "markdown",
      "metadata": {
        "id": "wCpr6DGyE28h"
      },
      "source": [
        "### Evaluate accuracy\n",
        "\n",
        "Next, compare how the model performs on the test dataset:"
      ]
    },
    {
      "cell_type": "code",
      "execution_count": null,
      "metadata": {
        "id": "VflXLEeECaXC",
        "colab": {
          "base_uri": "https://localhost:8080/"
        },
        "outputId": "8b1bd55c-70e9-44b1-980b-1d4311d20dec"
      },
      "outputs": [
        {
          "output_type": "stream",
          "name": "stdout",
          "text": [
            "313/313 - 1s - loss: 0.4217 - accuracy: 0.8783 - 648ms/epoch - 2ms/step\n",
            "1875/1875 - 4s - loss: 0.3138 - accuracy: 0.9086 - 4s/epoch - 2ms/step\n",
            "\n",
            "Test accuracy: 0.8783000111579895 Test_loss: 0.421709805727005\n",
            "\n",
            "Train accuracy: 0.9085500240325928 Train_loss: 0.31380176544189453\n"
          ]
        }
      ],
      "source": [
        "test_loss, test_acc = model.evaluate(test_images,  test_labels, verbose=2)\n",
        "train_loss, train_acc = model.evaluate(train_images,  train_labels, verbose=2)\n",
        "print('\\nTest accuracy:', test_acc, \"Test_loss:\", test_loss)\n",
        "\n",
        "print('\\nTrain accuracy:', train_acc , \"Train_loss:\", train_loss)"
      ]
    },
    {
      "cell_type": "code",
      "source": [
        "test_loss1, test_acc1 = model1.evaluate(test_images,  test_labels, verbose=2)\n",
        "train_loss1, train_acc1 = model1.evaluate(train_images,  train_labels, verbose=2)\n",
        "print('\\nTest accuracy:', test_acc1, \"Test_loss:\", test_loss1)\n",
        "\n",
        "print('\\nTrain accuracy:', train_acc1 , \"Train_loss:\", train_loss1)"
      ],
      "metadata": {
        "colab": {
          "base_uri": "https://localhost:8080/"
        },
        "id": "j7dU9egsVfPp",
        "outputId": "9cb476cb-08ce-40ba-fc25-a90b3eda1a63"
      },
      "execution_count": 59,
      "outputs": [
        {
          "output_type": "stream",
          "name": "stdout",
          "text": [
            "313/313 - 1s - loss: 0.3469 - accuracy: 0.8767 - 533ms/epoch - 2ms/step\n",
            "1875/1875 - 3s - loss: 0.2647 - accuracy: 0.9060 - 3s/epoch - 2ms/step\n",
            "\n",
            "Test accuracy: 0.8766999840736389 Test_loss: 0.34691527485847473\n",
            "\n",
            "Train accuracy: 0.9059666395187378 Train_loss: 0.2646951377391815\n"
          ]
        }
      ]
    },
    {
      "cell_type": "code",
      "source": [
        "test_loss2, test_acc2 = model2.evaluate(test_images,  test_labels, verbose=2)\n",
        "train_loss2, train_acc2 = model2.evaluate(train_images,  train_labels, verbose=2)\n",
        "print('\\nTest accuracy:', test_acc2, \"Test_loss:\", test_loss2)\n",
        "\n",
        "print('\\nTrain accuracy:', train_acc2 , \"Train_loss:\", train_loss2)"
      ],
      "metadata": {
        "colab": {
          "base_uri": "https://localhost:8080/"
        },
        "id": "7L3REfCbVffe",
        "outputId": "f7e858f1-b1ac-4d58-8366-34690fffc405"
      },
      "execution_count": 60,
      "outputs": [
        {
          "output_type": "stream",
          "name": "stdout",
          "text": [
            "313/313 - 1s - loss: 0.4801 - accuracy: 0.8532 - 529ms/epoch - 2ms/step\n",
            "1875/1875 - 3s - loss: 0.3401 - accuracy: 0.8813 - 3s/epoch - 2ms/step\n",
            "\n",
            "Test accuracy: 0.8532000184059143 Test_loss: 0.48012471199035645\n",
            "\n",
            "Train accuracy: 0.8813333511352539 Train_loss: 0.340126633644104\n"
          ]
        }
      ]
    },
    {
      "cell_type": "code",
      "source": [
        "test_loss3, test_acc3 = model3.evaluate(test_images,  test_labels, verbose=2)\n",
        "train_loss3, train_acc3 = model3.evaluate(train_images,  train_labels, verbose=2)\n",
        "print('\\nTest accuracy:', test_acc3, \"Test_loss:\", test_loss3)\n",
        "\n",
        "print('\\nTrain accuracy:', train_acc3 , \"Train_loss:\", train_loss3)"
      ],
      "metadata": {
        "colab": {
          "base_uri": "https://localhost:8080/"
        },
        "id": "pLwhKDHPVfs0",
        "outputId": "d7472f27-3df9-454e-d212-b56db5e60f6c"
      },
      "execution_count": 61,
      "outputs": [
        {
          "output_type": "stream",
          "name": "stdout",
          "text": [
            "313/313 - 1s - loss: 0.3650 - accuracy: 0.8836 - 552ms/epoch - 2ms/step\n",
            "1875/1875 - 3s - loss: 0.1886 - accuracy: 0.9318 - 3s/epoch - 2ms/step\n",
            "\n",
            "Test accuracy: 0.8835999965667725 Test_loss: 0.3649815320968628\n",
            "\n",
            "Train accuracy: 0.9317833185195923 Train_loss: 0.18859152495861053\n"
          ]
        }
      ]
    },
    {
      "cell_type": "code",
      "source": [
        "test_loss4, test_acc4 = model4.evaluate(test_images,  test_labels, verbose=2)\n",
        "train_loss4, train_acc4 = model4.evaluate(train_images,  train_labels, verbose=2)\n",
        "print('\\nTest accuracy:', test_acc4, \"Test_loss:\", test_loss4)\n",
        "\n",
        "print('\\nTrain accuracy:', train_acc4 , \"Train_loss:\", train_loss4)"
      ],
      "metadata": {
        "colab": {
          "base_uri": "https://localhost:8080/"
        },
        "id": "uj0crl6HVf6t",
        "outputId": "8f7ab662-a44a-4291-bae6-b2bf9935abfa"
      },
      "execution_count": 62,
      "outputs": [
        {
          "output_type": "stream",
          "name": "stdout",
          "text": [
            "313/313 - 1s - loss: 0.4171 - accuracy: 0.8788 - 661ms/epoch - 2ms/step\n",
            "1875/1875 - 4s - loss: 0.3105 - accuracy: 0.9099 - 4s/epoch - 2ms/step\n",
            "\n",
            "Test accuracy: 0.8787999749183655 Test_loss: 0.417147696018219\n",
            "\n",
            "Train accuracy: 0.909850001335144 Train_loss: 0.3105359375476837\n"
          ]
        }
      ]
    },
    {
      "cell_type": "code",
      "source": [
        "test_loss5, test_acc5 = model5.evaluate(test_images,  test_labels, verbose=2)\n",
        "train_loss5, train_acc5 = model5.evaluate(train_images,  train_labels, verbose=2)\n",
        "print('\\nTest accuracy:', test_acc5, \"Test_loss:\", test_loss5)\n",
        "\n",
        "print('\\nTrain accuracy:', train_acc5 , \"Train_loss:\", train_loss5)"
      ],
      "metadata": {
        "colab": {
          "base_uri": "https://localhost:8080/"
        },
        "id": "6zrgAIYrVgIX",
        "outputId": "6fc55318-dd41-4e5c-f156-d5db97e329db"
      },
      "execution_count": 63,
      "outputs": [
        {
          "output_type": "stream",
          "name": "stdout",
          "text": [
            "313/313 - 1s - loss: 0.4069 - accuracy: 0.8827 - 612ms/epoch - 2ms/step\n",
            "1875/1875 - 4s - loss: 0.2706 - accuracy: 0.9215 - 4s/epoch - 2ms/step\n",
            "\n",
            "Test accuracy: 0.8827000260353088 Test_loss: 0.40689796209335327\n",
            "\n",
            "Train accuracy: 0.921500027179718 Train_loss: 0.2706303298473358\n"
          ]
        }
      ]
    },
    {
      "cell_type": "code",
      "source": [
        "test_loss6, test_acc6 = model6.evaluate(test_images,  test_labels, verbose=2)\n",
        "train_loss6, train_acc6 = model6.evaluate(train_images,  train_labels, verbose=2)\n",
        "print('\\nTest accuracy:', test_acc6, \"Test_loss:\", test_loss6)\n",
        "\n",
        "print('\\nTrain accuracy:', train_acc6 , \"Train_loss:\", train_loss6)"
      ],
      "metadata": {
        "colab": {
          "base_uri": "https://localhost:8080/"
        },
        "id": "y1s8E_Z6VgUw",
        "outputId": "e7e01b8d-a302-4578-db09-2b665899ed9b"
      },
      "execution_count": 64,
      "outputs": [
        {
          "output_type": "stream",
          "name": "stdout",
          "text": [
            "313/313 - 1s - loss: 0.3533 - accuracy: 0.8796 - 537ms/epoch - 2ms/step\n",
            "1875/1875 - 3s - loss: 0.2453 - accuracy: 0.9078 - 3s/epoch - 2ms/step\n",
            "\n",
            "Test accuracy: 0.8795999884605408 Test_loss: 0.35334551334381104\n",
            "\n",
            "Train accuracy: 0.9077833294868469 Train_loss: 0.24534142017364502\n"
          ]
        }
      ]
    },
    {
      "cell_type": "code",
      "source": [
        "test_loss7, test_acc7 = model7.evaluate(test_images,  test_labels, verbose=2)\n",
        "train_loss7, train_acc7 = model7.evaluate(train_images,  train_labels, verbose=2)\n",
        "print('\\nTest accuracy:', test_acc7, \"Test_loss:\", test_loss7)\n",
        "\n",
        "print('\\nTrain accuracy:', train_acc7 , \"Train_loss:\", train_loss7)"
      ],
      "metadata": {
        "colab": {
          "base_uri": "https://localhost:8080/"
        },
        "id": "tcdMpJlHVgjJ",
        "outputId": "33ce4f60-57ef-48b9-fd96-99e989125767"
      },
      "execution_count": 65,
      "outputs": [
        {
          "output_type": "stream",
          "name": "stdout",
          "text": [
            "313/313 - 1s - loss: 0.4080 - accuracy: 0.8800 - 657ms/epoch - 2ms/step\n",
            "1875/1875 - 4s - loss: 0.3187 - accuracy: 0.9087 - 4s/epoch - 2ms/step\n",
            "\n",
            "Test accuracy: 0.8799999952316284 Test_loss: 0.4079848527908325\n",
            "\n",
            "Train accuracy: 0.9086666703224182 Train_loss: 0.31865033507347107\n"
          ]
        }
      ]
    },
    {
      "cell_type": "markdown",
      "metadata": {
        "id": "yWfgsmVXCaXG"
      },
      "source": [
        "It turns out that the accuracy on the test dataset is a little less than the accuracy on the training dataset. This gap between training accuracy and test accuracy represents *overfitting*. Overfitting happens when a machine learning model performs worse on new, previously unseen inputs than it does on the training data. An overfitted model \"memorizes\" the noise and details in the training dataset to a point where it negatively impacts the performance of the model on the new data. For more information, see the following:\n",
        "*   [Demonstrate overfitting](https://www.tensorflow.org/tutorials/keras/overfit_and_underfit#demonstrate_overfitting)\n",
        "*   [Strategies to prevent overfitting](https://www.tensorflow.org/tutorials/keras/overfit_and_underfit#strategies_to_prevent_overfitting)"
      ]
    },
    {
      "cell_type": "markdown",
      "metadata": {
        "id": "v-PyD1SYE28q"
      },
      "source": [
        "### Make predictions\n",
        "\n",
        "With the model trained, you can use it to make predictions about some images.\n",
        "Attach a softmax layer to convert the model's linear outputs—[logits](https://developers.google.com/machine-learning/glossary#logits)—to probabilities, which should be easier to interpret."
      ]
    },
    {
      "cell_type": "code",
      "execution_count": 66,
      "metadata": {
        "id": "DnfNA0CrQLSD"
      },
      "outputs": [],
      "source": [
        "probability_model = tf.keras.Sequential([model, \n",
        "                                         tf.keras.layers.Softmax()])"
      ]
    },
    {
      "cell_type": "code",
      "execution_count": 67,
      "metadata": {
        "id": "Gl91RPhdCaXI",
        "colab": {
          "base_uri": "https://localhost:8080/"
        },
        "outputId": "fd1943cf-60ab-43ec-846d-deb10779cca8"
      },
      "outputs": [
        {
          "output_type": "stream",
          "name": "stdout",
          "text": [
            "313/313 [==============================] - 1s 2ms/step\n"
          ]
        }
      ],
      "source": [
        "predictions = probability_model.predict(test_images)"
      ]
    },
    {
      "cell_type": "code",
      "source": [
        "pred_indices = np.array([np.argmax(pred) for pred in predictions])\n",
        "print (pred_indices)\n",
        "print (test_labels)"
      ],
      "metadata": {
        "colab": {
          "base_uri": "https://localhost:8080/"
        },
        "id": "jk8_P01yI721",
        "outputId": "a75a6ead-8b4e-4095-9285-d11709f471d3"
      },
      "execution_count": 68,
      "outputs": [
        {
          "output_type": "stream",
          "name": "stdout",
          "text": [
            "[9 2 1 ... 8 1 5]\n",
            "[9 2 1 ... 8 1 5]\n"
          ]
        }
      ]
    },
    {
      "cell_type": "code",
      "source": [
        "from sklearn.metrics import classification_report\n",
        "\n",
        "print(classification_report(test_labels, pred_indices, target_names=class_names))"
      ],
      "metadata": {
        "colab": {
          "base_uri": "https://localhost:8080/"
        },
        "id": "TSKiMVnRHnxe",
        "outputId": "034390d7-79d6-47f1-d64b-70986eba849d"
      },
      "execution_count": 69,
      "outputs": [
        {
          "output_type": "stream",
          "name": "stdout",
          "text": [
            "              precision    recall  f1-score   support\n",
            "\n",
            " T-shirt/top       0.78      0.86      0.82      1000\n",
            "     Trouser       0.99      0.96      0.97      1000\n",
            "    Pullover       0.74      0.82      0.78      1000\n",
            "       Dress       0.91      0.85      0.88      1000\n",
            "        Coat       0.78      0.80      0.79      1000\n",
            "      Sandal       0.97      0.96      0.96      1000\n",
            "       Shirt       0.72      0.60      0.66      1000\n",
            "     Sneaker       0.93      0.95      0.94      1000\n",
            "         Bag       0.97      0.96      0.96      1000\n",
            "  Ankle boot       0.96      0.95      0.96      1000\n",
            "\n",
            "    accuracy                           0.87     10000\n",
            "   macro avg       0.87      0.87      0.87     10000\n",
            "weighted avg       0.87      0.87      0.87     10000\n",
            "\n"
          ]
        }
      ]
    },
    {
      "cell_type": "code",
      "source": [
        "predictions = probability_model.predict(train_images)\n",
        "pred_indices = np.array([np.argmax(pred) for pred in predictions])\n",
        "print (pred_indices)\n",
        "print (train_labels)\n",
        "\n",
        "print(classification_report(train_labels, pred_indices, target_names=class_names))"
      ],
      "metadata": {
        "colab": {
          "base_uri": "https://localhost:8080/"
        },
        "id": "6QKuDir720Vr",
        "outputId": "97250a49-fe41-40a5-e2d3-1d2a59d7dc6e"
      },
      "execution_count": 70,
      "outputs": [
        {
          "output_type": "stream",
          "name": "stdout",
          "text": [
            "1875/1875 [==============================] - 4s 2ms/step\n",
            "[9 0 0 ... 3 0 5]\n",
            "[9 0 0 ... 3 0 5]\n",
            "              precision    recall  f1-score   support\n",
            "\n",
            " T-shirt/top       0.80      0.91      0.85      6000\n",
            "     Trouser       0.99      0.98      0.98      6000\n",
            "    Pullover       0.79      0.86      0.82      6000\n",
            "       Dress       0.93      0.87      0.90      6000\n",
            "        Coat       0.81      0.84      0.83      6000\n",
            "      Sandal       0.97      0.97      0.97      6000\n",
            "       Shirt       0.79      0.67      0.72      6000\n",
            "     Sneaker       0.94      0.96      0.95      6000\n",
            "         Bag       0.98      0.97      0.97      6000\n",
            "  Ankle boot       0.97      0.96      0.97      6000\n",
            "\n",
            "    accuracy                           0.90     60000\n",
            "   macro avg       0.90      0.90      0.90     60000\n",
            "weighted avg       0.90      0.90      0.90     60000\n",
            "\n"
          ]
        }
      ]
    },
    {
      "cell_type": "code",
      "source": [],
      "metadata": {
        "id": "yVLfqxoH3AgH"
      },
      "execution_count": null,
      "outputs": []
    }
  ],
  "metadata": {
    "colab": {
      "collapsed_sections": [],
      "provenance": []
    },
    "kernelspec": {
      "display_name": "Python 3",
      "name": "python3"
    }
  },
  "nbformat": 4,
  "nbformat_minor": 0
}