{
  "cells": [
    {
      "cell_type": "markdown",
      "metadata": {
        "collapsed": true,
        "id": "-OzzKm9QFurU"
      },
      "source": [
        "## 578hw5_Check1.ipynb -- Check application code\n",
        "### You can run this code, the whole file, _as is_, with NN578_network2_nb.ipynb, to ensure your system is set up correctly.  \n",
        "Check your output with what's shown in the file.\n",
        "\n",
        "## Hithesh Shanmugam\n",
        "## CSC 578\n",
        "## Assignment 5"
      ]
    },
    {
      "cell_type": "code",
      "source": [
        "## nt: Code piece to mount my Google Drive\n",
        "from google.colab import drive\n",
        "drive.mount(\"/content/drive\") # my Google Drive root directory will be mapped here"
      ],
      "metadata": {
        "colab": {
          "base_uri": "https://localhost:8080/"
        },
        "id": "912aoxK4GslG",
        "outputId": "8303d7b3-792b-4edc-ad8a-1f3acddb6469"
      },
      "execution_count": 1,
      "outputs": [
        {
          "output_type": "stream",
          "name": "stdout",
          "text": [
            "Mounted at /content/drive\n"
          ]
        }
      ]
    },
    {
      "cell_type": "code",
      "source": [
        "# nt: Change the working directory to the work directory (where the code file is).\n",
        "import os\n",
        "thisdir = '/content/drive/My Drive/Assignment 5'\n",
        "os.chdir(thisdir)\n",
        "\n",
        "# Ensure the files are there (in the folder)\n",
        "!pwd"
      ],
      "metadata": {
        "colab": {
          "base_uri": "https://localhost:8080/"
        },
        "id": "9eHuf_ORGz8-",
        "outputId": "bbb6d5d1-0054-4b56-c580-216ec256b7b0"
      },
      "execution_count": 2,
      "outputs": [
        {
          "output_type": "stream",
          "name": "stdout",
          "text": [
            "/content/drive/My Drive/Assignment 5\n"
          ]
        }
      ]
    },
    {
      "cell_type": "markdown",
      "metadata": {
        "id": "tVNhW15zFurc"
      },
      "source": [
        "## (1) Tiny experiment with One-training-One-test Iris data"
      ]
    },
    {
      "cell_type": "code",
      "execution_count": 3,
      "metadata": {
        "collapsed": true,
        "colab": {
          "base_uri": "https://localhost:8080/"
        },
        "id": "fJtGrbl-Fure",
        "outputId": "949741ab-49cf-4287-e2f9-911ee8c670b9"
      },
      "outputs": [
        {
          "output_type": "stream",
          "name": "stdout",
          "text": [
            "Looking in indexes: https://pypi.org/simple, https://us-python.pkg.dev/colab-wheels/public/simple/\n",
            "Collecting import-ipynb\n",
            "  Downloading import_ipynb-0.1.4-py3-none-any.whl (4.1 kB)\n",
            "Requirement already satisfied: nbformat in /usr/local/lib/python3.7/dist-packages (from import-ipynb) (5.7.0)\n",
            "Requirement already satisfied: IPython in /usr/local/lib/python3.7/dist-packages (from import-ipynb) (7.9.0)\n",
            "Requirement already satisfied: pickleshare in /usr/local/lib/python3.7/dist-packages (from IPython->import-ipynb) (0.7.5)\n",
            "Requirement already satisfied: backcall in /usr/local/lib/python3.7/dist-packages (from IPython->import-ipynb) (0.2.0)\n",
            "Requirement already satisfied: pexpect in /usr/local/lib/python3.7/dist-packages (from IPython->import-ipynb) (4.8.0)\n",
            "Requirement already satisfied: decorator in /usr/local/lib/python3.7/dist-packages (from IPython->import-ipynb) (4.4.2)\n",
            "Requirement already satisfied: pygments in /usr/local/lib/python3.7/dist-packages (from IPython->import-ipynb) (2.6.1)\n",
            "Collecting jedi>=0.10\n",
            "  Downloading jedi-0.18.1-py2.py3-none-any.whl (1.6 MB)\n",
            "\u001b[K     |████████████████████████████████| 1.6 MB 5.1 MB/s \n",
            "\u001b[?25hRequirement already satisfied: setuptools>=18.5 in /usr/local/lib/python3.7/dist-packages (from IPython->import-ipynb) (57.4.0)\n",
            "Requirement already satisfied: traitlets>=4.2 in /usr/local/lib/python3.7/dist-packages (from IPython->import-ipynb) (5.1.1)\n",
            "Requirement already satisfied: prompt-toolkit<2.1.0,>=2.0.0 in /usr/local/lib/python3.7/dist-packages (from IPython->import-ipynb) (2.0.10)\n",
            "Requirement already satisfied: parso<0.9.0,>=0.8.0 in /usr/local/lib/python3.7/dist-packages (from jedi>=0.10->IPython->import-ipynb) (0.8.3)\n",
            "Requirement already satisfied: wcwidth in /usr/local/lib/python3.7/dist-packages (from prompt-toolkit<2.1.0,>=2.0.0->IPython->import-ipynb) (0.2.5)\n",
            "Requirement already satisfied: six>=1.9.0 in /usr/local/lib/python3.7/dist-packages (from prompt-toolkit<2.1.0,>=2.0.0->IPython->import-ipynb) (1.15.0)\n",
            "Requirement already satisfied: jupyter-core in /usr/local/lib/python3.7/dist-packages (from nbformat->import-ipynb) (4.11.2)\n",
            "Requirement already satisfied: jsonschema>=2.6 in /usr/local/lib/python3.7/dist-packages (from nbformat->import-ipynb) (4.3.3)\n",
            "Requirement already satisfied: fastjsonschema in /usr/local/lib/python3.7/dist-packages (from nbformat->import-ipynb) (2.16.2)\n",
            "Requirement already satisfied: importlib-metadata>=3.6 in /usr/local/lib/python3.7/dist-packages (from nbformat->import-ipynb) (4.13.0)\n",
            "Requirement already satisfied: zipp>=0.5 in /usr/local/lib/python3.7/dist-packages (from importlib-metadata>=3.6->nbformat->import-ipynb) (3.9.0)\n",
            "Requirement already satisfied: typing-extensions>=3.6.4 in /usr/local/lib/python3.7/dist-packages (from importlib-metadata>=3.6->nbformat->import-ipynb) (4.1.1)\n",
            "Requirement already satisfied: attrs>=17.4.0 in /usr/local/lib/python3.7/dist-packages (from jsonschema>=2.6->nbformat->import-ipynb) (22.1.0)\n",
            "Requirement already satisfied: pyrsistent!=0.17.0,!=0.17.1,!=0.17.2,>=0.14.0 in /usr/local/lib/python3.7/dist-packages (from jsonschema>=2.6->nbformat->import-ipynb) (0.18.1)\n",
            "Requirement already satisfied: importlib-resources>=1.4.0 in /usr/local/lib/python3.7/dist-packages (from jsonschema>=2.6->nbformat->import-ipynb) (5.10.0)\n",
            "Requirement already satisfied: ptyprocess>=0.5 in /usr/local/lib/python3.7/dist-packages (from pexpect->IPython->import-ipynb) (0.7.0)\n",
            "Installing collected packages: jedi, import-ipynb\n",
            "Successfully installed import-ipynb-0.1.4 jedi-0.18.1\n"
          ]
        }
      ],
      "source": [
        "# First install this library so that we can import code from other Notebooks\n",
        "## https://newbedev.com/how-to-import-functions-of-a-jupyter-notebook-into-another-jupyter-notebook-in-google-colab#:~:text=How%20to%20import%20functions%20of%20a%20jupyter%20notebook,mount%20your%20google%20drive%20to%20access%20your%20xxx.ipynb\n",
        "!pip install import-ipynb\n",
        "import import_ipynb"
      ]
    },
    {
      "cell_type": "code",
      "execution_count": 4,
      "metadata": {
        "colab": {
          "base_uri": "https://localhost:8080/"
        },
        "id": "bmnCFtaiFurk",
        "outputId": "767eea3b-d42c-4c26-bb29-d0cec63ea49d"
      },
      "outputs": [
        {
          "output_type": "stream",
          "name": "stdout",
          "text": [
            "importing Jupyter notebook from NN578_network2_nb.ipynb\n"
          ]
        }
      ],
      "source": [
        "# import the class Network from \"NN578_network_nb.ipynb\"\n",
        "import NN578_network2_nb as network2\n",
        "import numpy as np\n",
        "\n",
        "# Load the data (using the custom function defined in the class Notebook).\n",
        "iris_data = network2.my_load_csv('iris.csv', 4, 3)"
      ]
    },
    {
      "cell_type": "code",
      "execution_count": 5,
      "metadata": {
        "colab": {
          "base_uri": "https://localhost:8080/"
        },
        "id": "vEMGPaqPFurl",
        "outputId": "389e9f6b-5972-4e23-bab7-2a8a47e51f48"
      },
      "outputs": [
        {
          "output_type": "stream",
          "name": "stdout",
          "text": [
            "Training cost: 0.26673128660052947\n",
            "Training accuracy: 1.0 \n",
            "test cost: 0.3244002758397572\n",
            "test accuracy: 0.0 \n",
            "\n",
            "Training cost: 0.2107866577006649\n",
            "Training accuracy: 1.0 \n",
            "test cost: 0.37647122809828165\n",
            "test accuracy: 0.0 \n",
            "\n",
            "Training 2 epochs complete.\n",
            "\n"
          ]
        },
        {
          "output_type": "execute_result",
          "data": {
            "text/plain": [
              "([0.26673128660052947, 0.2107866577006649],\n",
              " [1, 1],\n",
              " [0.3244002758397572, 0.37647122809828165],\n",
              " [0, 0])"
            ]
          },
          "metadata": {},
          "execution_count": 5
        }
      ],
      "source": [
        "# Test with one-data Iris data\n",
        "inst1 = (np.array([5.7, 3, 4.2, 1.2]), np.array([0., 1., 0.]))\n",
        "x1 = np.reshape(inst1[0], (4, 1))\n",
        "y1 = np.reshape(inst1[1], (3, 1))\n",
        "sample1 = [(x1, y1)]\n",
        "inst2 = (np.array([4.8, 3.4, 1.6, 0.2]), np.array([1., 0., 0.]))\n",
        "x2 = np.reshape(inst2[0], (4, 1))\n",
        "y2 = np.reshape(inst2[1], (3, 1))\n",
        "sample2 = [(x2, y2)]\n",
        "\n",
        "# Create a network from the saved network\n",
        "net4 = network2.Network.load_network(\"iris-423.dat\")\n",
        "net4.set_parameters(network2.QuadraticCost)\n",
        "\n",
        "net4.SGD(sample1, 2, 1, 1.0, evaluation_data=sample2, monitor_evaluation_cost=True, \n",
        "            monitor_evaluation_accuracy=True,\n",
        "            monitor_training_cost=True,\n",
        "            monitor_training_accuracy=True)"
      ]
    },
    {
      "cell_type": "markdown",
      "metadata": {
        "id": "bdiqbgW-Furp"
      },
      "source": [
        "### Load the iris_train, iris_test datasets"
      ]
    },
    {
      "cell_type": "code",
      "execution_count": 6,
      "metadata": {
        "id": "KuuSA1BXFurq"
      },
      "outputs": [],
      "source": [
        "# Load the iris train-test (separate) data files\n",
        "iris_train = network2.my_load_csv('iris-train-2.csv', 4, 3)\n",
        "iris_test = network2.my_load_csv('iris-test-2.csv', 4, 3)"
      ]
    },
    {
      "cell_type": "markdown",
      "metadata": {
        "id": "XTXwAe0zFurr"
      },
      "source": [
        "## (2) Sigmoid + Sigmoid + QuadraticCost "
      ]
    },
    {
      "cell_type": "code",
      "execution_count": 7,
      "metadata": {
        "id": "C4fDxbpPFurr",
        "colab": {
          "base_uri": "https://localhost:8080/"
        },
        "outputId": "93308975-a944-42f0-928d-f0c947301210"
      },
      "outputs": [
        {
          "output_type": "stream",
          "name": "stdout",
          "text": [
            "Training cost: 0.3372011409149687\n",
            "Training accuracy: 0.3333333333333333 \n",
            "test cost: 0.3372188768533613\n",
            "test accuracy: 0.3333333333333333 \n",
            "\n",
            "Training cost: 0.3329950840102862\n",
            "Training accuracy: 0.3333333333333333 \n",
            "test cost: 0.33301260463402854\n",
            "test accuracy: 0.3333333333333333 \n",
            "\n",
            "Training cost: 0.3309769856719112\n",
            "Training accuracy: 0.3333333333333333 \n",
            "test cost: 0.33104669557070227\n",
            "test accuracy: 0.3333333333333333 \n",
            "\n",
            "Training cost: 0.31882400134520283\n",
            "Training accuracy: 0.3333333333333333 \n",
            "test cost: 0.31928176320025053\n",
            "test accuracy: 0.3333333333333333 \n",
            "\n",
            "Training cost: 0.28771263280920917\n",
            "Training accuracy: 0.6666666666666666 \n",
            "test cost: 0.2879509536660731\n",
            "test accuracy: 0.6666666666666666 \n",
            "\n",
            "Training cost: 0.26374878430975607\n",
            "Training accuracy: 0.6666666666666666 \n",
            "test cost: 0.2639112455230171\n",
            "test accuracy: 0.6666666666666666 \n",
            "\n",
            "Training cost: 0.24661215570756337\n",
            "Training accuracy: 0.6666666666666666 \n",
            "test cost: 0.24697063066207334\n",
            "test accuracy: 0.6666666666666666 \n",
            "\n",
            "Training cost: 0.23328082397432431\n",
            "Training accuracy: 0.6666666666666666 \n",
            "test cost: 0.2337585412145859\n",
            "test accuracy: 0.6666666666666666 \n",
            "\n",
            "Training cost: 0.22284973821742185\n",
            "Training accuracy: 0.6666666666666666 \n",
            "test cost: 0.2233734329012658\n",
            "test accuracy: 0.6666666666666666 \n",
            "\n",
            "Training cost: 0.2146393378155809\n",
            "Training accuracy: 0.6666666666666666 \n",
            "test cost: 0.21516526112578133\n",
            "test accuracy: 0.6666666666666666 \n",
            "\n",
            "Training cost: 0.20811000523769507\n",
            "Training accuracy: 0.6666666666666666 \n",
            "test cost: 0.2086144656671834\n",
            "test accuracy: 0.6666666666666666 \n",
            "\n",
            "Training cost: 0.20285439535557384\n",
            "Training accuracy: 0.6666666666666666 \n",
            "test cost: 0.20332554681195558\n",
            "test accuracy: 0.6666666666666666 \n",
            "\n",
            "Training cost: 0.19857067899735295\n",
            "Training accuracy: 0.6666666666666666 \n",
            "test cost: 0.19900330246824727\n",
            "test accuracy: 0.6666666666666666 \n",
            "\n",
            "Training cost: 0.19503553337413468\n",
            "Training accuracy: 0.6666666666666666 \n",
            "test cost: 0.1954279881919894\n",
            "test accuracy: 0.6666666666666666 \n",
            "\n",
            "Training cost: 0.19208257783379265\n",
            "Training accuracy: 0.6666666666666666 \n",
            "test cost: 0.19243508062813708\n",
            "test accuracy: 0.6666666666666666 \n",
            "\n",
            "Training 15 epochs complete.\n",
            "\n"
          ]
        },
        {
          "output_type": "execute_result",
          "data": {
            "text/plain": [
              "([0.3372011409149687,\n",
              "  0.3329950840102862,\n",
              "  0.3309769856719112,\n",
              "  0.31882400134520283,\n",
              "  0.28771263280920917,\n",
              "  0.26374878430975607,\n",
              "  0.24661215570756337,\n",
              "  0.23328082397432431,\n",
              "  0.22284973821742185,\n",
              "  0.2146393378155809,\n",
              "  0.20811000523769507,\n",
              "  0.20285439535557384,\n",
              "  0.19857067899735295,\n",
              "  0.19503553337413468,\n",
              "  0.19208257783379265],\n",
              " [35, 35, 35, 35, 70, 70, 70, 70, 70, 70, 70, 70, 70, 70, 70],\n",
              " [0.3372188768533613,\n",
              "  0.33301260463402854,\n",
              "  0.33104669557070227,\n",
              "  0.31928176320025053,\n",
              "  0.2879509536660731,\n",
              "  0.2639112455230171,\n",
              "  0.24697063066207334,\n",
              "  0.2337585412145859,\n",
              "  0.2233734329012658,\n",
              "  0.21516526112578133,\n",
              "  0.2086144656671834,\n",
              "  0.20332554681195558,\n",
              "  0.19900330246824727,\n",
              "  0.1954279881919894,\n",
              "  0.19243508062813708],\n",
              " [15, 15, 15, 15, 30, 30, 30, 30, 30, 30, 30, 30, 30, 30, 30])"
            ]
          },
          "metadata": {},
          "execution_count": 7
        }
      ],
      "source": [
        "net2 = network2.Network.load_network(\"iris-423.dat\")\n",
        "\n",
        "# Set hyper-parameter values individually after the network\n",
        "net2.set_parameters(cost=network2.QuadraticCost, \n",
        "                    act_hidden=network2.Sigmoid, act_output=network2.Sigmoid)\n",
        "\n",
        "net2.SGD(iris_train, 15, 10, 1.0, evaluation_data=iris_test, monitor_evaluation_cost=True, \n",
        "            monitor_evaluation_accuracy=True,\n",
        "            monitor_training_cost=True,\n",
        "            monitor_training_accuracy=True)"
      ]
    },
    {
      "cell_type": "code",
      "execution_count": null,
      "metadata": {
        "id": "GA2j8ZNiFurt"
      },
      "outputs": [],
      "source": []
    },
    {
      "cell_type": "code",
      "source": [],
      "metadata": {
        "id": "ehSASSVM-80y"
      },
      "execution_count": null,
      "outputs": []
    },
    {
      "cell_type": "code",
      "source": [],
      "metadata": {
        "id": "suWIdz_Mfk0s"
      },
      "execution_count": null,
      "outputs": []
    },
    {
      "cell_type": "code",
      "source": [],
      "metadata": {
        "id": "XH79VwOHgs21"
      },
      "execution_count": null,
      "outputs": []
    },
    {
      "cell_type": "code",
      "source": [],
      "metadata": {
        "id": "yyfFcPrTkz43"
      },
      "execution_count": null,
      "outputs": []
    },
    {
      "cell_type": "code",
      "source": [],
      "metadata": {
        "id": "Yv2HT37Mmz1u"
      },
      "execution_count": null,
      "outputs": []
    },
    {
      "cell_type": "code",
      "source": [],
      "metadata": {
        "id": "chwBc5Te4R2_"
      },
      "execution_count": null,
      "outputs": []
    },
    {
      "cell_type": "code",
      "source": [
        "\n",
        "      "
      ],
      "metadata": {
        "id": "Lckjqm7kq3xc"
      },
      "execution_count": null,
      "outputs": []
    },
    {
      "cell_type": "code",
      "source": [],
      "metadata": {
        "id": "BRkuwKWtsNiI"
      },
      "execution_count": null,
      "outputs": []
    },
    {
      "cell_type": "code",
      "source": [],
      "metadata": {
        "id": "5dkJjBJjra3K"
      },
      "execution_count": null,
      "outputs": []
    }
  ],
  "metadata": {
    "kernelspec": {
      "display_name": "Python 3 (ipykernel)",
      "language": "python",
      "name": "python3"
    },
    "language_info": {
      "codemirror_mode": {
        "name": "ipython",
        "version": 3
      },
      "file_extension": ".py",
      "mimetype": "text/x-python",
      "name": "python",
      "nbconvert_exporter": "python",
      "pygments_lexer": "ipython3",
      "version": "3.9.7"
    },
    "colab": {
      "provenance": [],
      "collapsed_sections": []
    },
    "gpuClass": "standard"
  },
  "nbformat": 4,
  "nbformat_minor": 0
}